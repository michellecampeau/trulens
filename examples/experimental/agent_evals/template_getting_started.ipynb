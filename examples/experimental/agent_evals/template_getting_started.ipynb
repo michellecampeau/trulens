{
 "cells": [
  {
   "cell_type": "markdown",
   "metadata": {},
   "source": [
    "# [Template] Getting Started with Snowflake ML\n",
    "\n",
    "Adapted from: https://github.com/Snowflake-Labs/sfguide-getting-started-machine-learning/tree/main/hol"
   ]
  },
  {
   "cell_type": "code",
   "execution_count": null,
   "metadata": {},
   "outputs": [],
   "source": [
    "# ! pip install snowflake-snowpark-python"
   ]
  },
  {
   "cell_type": "code",
   "execution_count": null,
   "metadata": {},
   "outputs": [],
   "source": [
    "from snowflake.snowpark import Session"
   ]
  },
  {
   "cell_type": "markdown",
   "metadata": {},
   "source": [
    "## Create Snowpark Session"
   ]
  },
  {
   "cell_type": "code",
   "execution_count": null,
   "metadata": {},
   "outputs": [],
   "source": [
    "# 1.1 Environment variables.\n",
    "\n",
    "from dotenv import load_dotenv\n",
    "\n",
    "load_dotenv()\n",
    "\n",
    "# 1.1 Use environment variables.\n",
    "# SNOWFLAKE_ACCOUNT = os.getenv(\"SNOWFLAKE_ACCOUNT\")\n",
    "# SNOWFLAKE_USER = os.getenv(\"SNOWFLAKE_USER\")\n",
    "# SNOWFLAKE_PASSWORD = os.getenv(\"SNOWFLAKE_PASSWORD\")\n",
    "# SNOWFLAKE_ROLE = os.getenv(\"SNOWFLAKE_ROLE\")\n",
    "# SNOWFLAKE_WAREHOUSE = os.getenv(\"SNOWFLAKE_WAREHOUSE\")\n",
    "# SNOWFLAKE_DATABASE = os.getenv(\"SNOWFLAKE_DATABASE\")\n",
    "# SNOWFLAKE_SCHEMA = os.getenv(\"SNOWFLAKE_SCHEMA\")\n",
    "\n",
    "# 1.2 Or local variables.\n",
    "SNOWFLAKE_ACCOUNT = \"REPLACE_SNOWFLAKE_ACCOUNT\"\n",
    "SNOWFLAKE_USER = \"REPLACE_SNOWFLAKE_USER\"\n",
    "SNOWFLAKE_PASSWORD = \"REPLACE_SNOWFLAKE_PASSWORD\"\n",
    "SNOWFLAKE_ROLE = \"REPLACE_SNOWFLAKE_ROLE\"\n",
    "SNOWFLAKE_WAREHOUSE = \"REPLACE_SNOWFLAKE_WAREHOUSE\"\n",
    "SNOWFLAKE_DATABASE = \"REPLACE_SNOWFLAKE_DATABASE\"\n",
    "SNOWFLAKE_SCHEMA = \"REPLACE_SNOWFLAKE_SCHEMA\""
   ]
  },
  {
   "cell_type": "code",
   "execution_count": null,
   "metadata": {},
   "outputs": [],
   "source": [
    "# 2.1 Snowflake connection params.\n",
    "connection_parameters = {\n",
    "    \"account\": SNOWFLAKE_ACCOUNT,\n",
    "    \"user\": SNOWFLAKE_USER,\n",
    "    \"authenticator\": \"externalbrowser\",\n",
    "    # \"password\": SNOWFLAKE_PASSWORD,\n",
    "    \"role\": SNOWFLAKE_ROLE,  # Optional\n",
    "    # \"warehouse\": SNOWFLAKE_WAREHOUSE, # Optional\n",
    "    # \"database\": SNOWFLAKE_DATABASE, # Optional\n",
    "    # \"schema\": SNOWFLAKE_SCHEMA # Optional\n",
    "}\n",
    "\n",
    "# 2.2 Create Snowpark session.\n",
    "session = Session.builder.configs(connection_parameters).create()"
   ]
  },
  {
   "cell_type": "markdown",
   "metadata": {},
   "source": [
    "## Use Virtual Warehouse (Compute)"
   ]
  },
  {
   "cell_type": "code",
   "execution_count": null,
   "metadata": {},
   "outputs": [],
   "source": [
    "session.sql(\"USE WAREHOUSE MEDIUM\").collect()"
   ]
  },
  {
   "cell_type": "markdown",
   "metadata": {},
   "source": [
    "## Simple Data Analysis"
   ]
  },
  {
   "cell_type": "code",
   "execution_count": null,
   "metadata": {},
   "outputs": [],
   "source": [
    "DATABASE = \"REPLACE_DATABASE\"\n",
    "SCHEMA = \"REPLACE_SCHEMA\"\n",
    "TABLE = \"REPLACE_TABLE\"\n",
    "\n",
    "# NOTE: this is a Snowpark DataFrame\n",
    "snowpark_df = session.sql(f\"SELECT * FROM {DATABASE}.{SCHEMA}.{TABLE}\")\n",
    "\n",
    "# NOTE: this is a Pandas DataFrame.\n",
    "pandas_df = snowpark_df.to_pandas()\n",
    "\n",
    "# Here's the difference: https://docs.snowflake.com/en/developer-guide/snowpark/python/working-with-dataframes#snowpark-dataframes-vs-snowpark-pandas-dataframe-which-should-i-choose\n",
    "\n",
    "snowpark_df.show()\n",
    "# snowpark_df.count()\n",
    "# snowpark_df.describe().show()"
   ]
  }
 ],
 "metadata": {
  "kernelspec": {
   "display_name": "trulens-gcbF4QQE-py3.11",
   "language": "python",
   "name": "python3"
  },
  "language_info": {
   "codemirror_mode": {
    "name": "ipython",
    "version": 3
   },
   "file_extension": ".py",
   "mimetype": "text/x-python",
   "name": "python",
   "nbconvert_exporter": "python",
   "pygments_lexer": "ipython3"
  }
 },
 "nbformat": 4,
 "nbformat_minor": 2
}
