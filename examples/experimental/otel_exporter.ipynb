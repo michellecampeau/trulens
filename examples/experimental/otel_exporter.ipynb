{
 "cells": [
  {
   "cell_type": "code",
   "execution_count": null,
   "metadata": {},
   "outputs": [],
   "source": [
    "# !pip install opentelemetry-api\n",
    "# !pip install opentelemetry-sdk"
   ]
  },
  {
   "cell_type": "code",
   "execution_count": null,
   "metadata": {},
   "outputs": [],
   "source": [
    "from pathlib import Path\n",
    "import sys\n",
    "\n",
    "# Add base dir to path to be able to access test folder.\n",
    "base_dir = Path().cwd().parent.parent.resolve()\n",
    "if str(base_dir) not in sys.path:\n",
    "    print(f\"Adding {base_dir} to sys.path\")\n",
    "    sys.path.append(str(base_dir))"
   ]
  },
  {
   "cell_type": "code",
   "execution_count": null,
   "metadata": {},
   "outputs": [],
   "source": [
    "from trulens.apps.custom import instrument\n",
    "from trulens.experimental.otel_tracing.core.instrument import (\n",
    "    instrument as otel_instrument,\n",
    ")\n",
    "\n",
    "\n",
    "class TestApp:\n",
    "    @instrument\n",
    "    def respond_to_query(self, query: str) -> str:\n",
    "        return f\"answer: {self.nested(query)}\"\n",
    "\n",
    "    @instrument\n",
    "    def nested(self, query: str) -> str:\n",
    "        return f\"nested: {self.nested2(query)}\"\n",
    "\n",
    "    @instrument\n",
    "    @otel_instrument()\n",
    "    def nested2(self, query: str) -> str:\n",
    "        return f\"nested2: {query}\""
   ]
  },
  {
   "cell_type": "code",
   "execution_count": null,
   "metadata": {},
   "outputs": [],
   "source": [
    "from trulens.core.session import TruSession\n",
    "from trulens.experimental.otel_tracing.core.init import init\n",
    "\n",
    "session = TruSession()\n",
    "session.reset_database()\n",
    "init(session, debug=True)"
   ]
  },
  {
   "cell_type": "code",
   "execution_count": null,
   "metadata": {},
   "outputs": [],
   "source": [
    "from trulens.apps.custom import TruCustomApp\n",
    "\n",
    "test_app = TestApp()\n",
    "custom_app = TruCustomApp(test_app)\n",
    "\n",
    "with custom_app as recording:\n",
    "    test_app.nested2(\"test\")"
   ]
  }
 ],
 "metadata": {
  "kernelspec": {
   "display_name": "trulens",
   "language": "python",
   "name": "python3"
  },
  "language_info": {
   "codemirror_mode": {
    "name": "ipython",
    "version": 3
   },
   "file_extension": ".py",
   "mimetype": "text/x-python",
   "name": "python",
   "nbconvert_exporter": "python",
   "pygments_lexer": "ipython3"
  }
 },
 "nbformat": 4,
 "nbformat_minor": 2
}
