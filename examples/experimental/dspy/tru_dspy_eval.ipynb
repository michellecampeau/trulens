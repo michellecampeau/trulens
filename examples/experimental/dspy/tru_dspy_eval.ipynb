{
 "cells": [
  {
   "cell_type": "markdown",
   "id": "fce6ddce",
   "metadata": {},
   "source": [
    "# Module Optimization"
   ]
  },
  {
   "cell_type": "code",
   "execution_count": 1,
   "id": "76780830",
   "metadata": {},
   "outputs": [],
   "source": [
    "import os\n",
    "\n",
    "import dspy\n",
    "from dspy.teleprompt import BootstrapFewShotWithRandomSearch\n",
    "\n",
    "# Configure OpenAI\n",
    "lm = dspy.LM(\n",
    "    model=\"openai/gpt-5\", \n",
    "    temperature=1.0, \n",
    "    max_tokens=16000,\n",
    "    api_key=os.getenv(\"OPENAI_API_KEY\"))\n",
    "dspy.configure(lm=lm)\n"
   ]
  },
  {
   "cell_type": "markdown",
   "id": "0206e1e4",
   "metadata": {},
   "source": [
    "## Synthetic dataset for financial news sentiment analysis"
   ]
  },
  {
   "cell_type": "code",
   "execution_count": 2,
   "id": "b77f4969",
   "metadata": {},
   "outputs": [],
   "source": [
    "# Training set\n",
    "train = [\n",
    "    dspy.Example(\n",
    "        headline=\"TechCorp reports record-breaking quarterly earnings, exceeding analyst expectations.\",\n",
    "        answer=\"Up\"\n",
    "    ).with_inputs(\"headline\"),\n",
    "    dspy.Example(\n",
    "        headline=\"TechCorpfaces regulatory fines due to compliance issues in overseas markets.\",\n",
    "        answer=\"Down\"\n",
    "    ).with_inputs(\"headline\"),\n",
    "    dspy.Example(\n",
    "        headline=\"TechCorp announces new product launch, expected to capture significant market share.\",\n",
    "        answer=\"Up\"\n",
    "    ).with_inputs(\"headline\"),\n",
    "    dspy.Example(\n",
    "        headline=\"TechCorp's CEO resigns amid internal investigation.\",\n",
    "        answer=\"Down\"\n",
    "    ).with_inputs(\"headline\"),\n",
    "    dspy.Example(\n",
    "        headline=\"TechCorp stock trading volume steady, market sentiment mixed.\",\n",
    "        answer=\"Neutral\"\n",
    "    ).with_inputs(\"headline\"),\n",
    "]\n",
    "\n",
    "# Development set\n",
    "dev = [\n",
    "    dspy.Example(\n",
    "        headline=\"TechCorp secures major government contract for AI solutions.\",\n",
    "        answer=\"Up\"\n",
    "    ).with_inputs(\"headline\"),\n",
    "    dspy.Example(\n",
    "        headline=\"TechCorp reports supply chain disruptions impacting production.\",\n",
    "        answer=\"Down\"\n",
    "    ).with_inputs(\"headline\"),\n",
    "    dspy.Example(\n",
    "        headline=\"TechCorp maintains stable dividend payout.\",\n",
    "        answer=\"Neutral\"\n",
    "    ).with_inputs(\"headline\"),\n",
    "]"
   ]
  },
  {
   "cell_type": "markdown",
   "id": "503679a8",
   "metadata": {},
   "source": [
    "## Define DSPy signatures/modules"
   ]
  },
  {
   "cell_type": "code",
   "execution_count": 5,
   "id": "2232b31e",
   "metadata": {},
   "outputs": [
    {
     "name": "stdout",
     "output_type": "stream",
     "text": [
      "Going to sample between 1 and 4 traces per predictor.\n",
      "Will attempt to bootstrap 8 candidate sets.\n",
      "Average Metric: 3.00 / 3 (100.0%): 100%|██████████| 3/3 [00:00<00:00, 137.86it/s]"
     ]
    },
    {
     "name": "stderr",
     "output_type": "stream",
     "text": [
      "2025/09/26 20:57:04 INFO dspy.evaluate.evaluate: Average Metric: 3 / 3 (100.0%)\n"
     ]
    },
    {
     "name": "stdout",
     "output_type": "stream",
     "text": [
      "\n",
      "New best score: 100.0 for seed -3\n",
      "Scores so far: [100.0]\n",
      "Best score so far: 100.0\n",
      "Average Metric: 3.00 / 3 (100.0%): 100%|██████████| 3/3 [00:00<00:00, 164.22it/s]"
     ]
    },
    {
     "name": "stderr",
     "output_type": "stream",
     "text": [
      "2025/09/26 20:57:04 INFO dspy.evaluate.evaluate: Average Metric: 3 / 3 (100.0%)\n"
     ]
    },
    {
     "name": "stdout",
     "output_type": "stream",
     "text": [
      "\n",
      "Scores so far: [100.0, 100.0]\n",
      "Best score so far: 100.0\n"
     ]
    },
    {
     "name": "stderr",
     "output_type": "stream",
     "text": [
      " 80%|████████  | 4/5 [00:00<00:00, 45.73it/s]\n"
     ]
    },
    {
     "name": "stdout",
     "output_type": "stream",
     "text": [
      "Bootstrapped 4 full traces after 4 examples for up to 1 rounds, amounting to 4 attempts.\n",
      "Average Metric: 3.00 / 3 (100.0%): 100%|██████████| 3/3 [00:00<00:00, 192.42it/s]"
     ]
    },
    {
     "name": "stderr",
     "output_type": "stream",
     "text": [
      "2025/09/26 20:57:04 INFO dspy.evaluate.evaluate: Average Metric: 3 / 3 (100.0%)\n"
     ]
    },
    {
     "name": "stdout",
     "output_type": "stream",
     "text": [
      "\n",
      "Scores so far: [100.0, 100.0, 100.0]\n",
      "Best score so far: 100.0\n"
     ]
    },
    {
     "name": "stderr",
     "output_type": "stream",
     "text": [
      " 80%|████████  | 4/5 [00:00<00:00, 42.80it/s]\n"
     ]
    },
    {
     "name": "stdout",
     "output_type": "stream",
     "text": [
      "Bootstrapped 4 full traces after 4 examples for up to 1 rounds, amounting to 4 attempts.\n",
      "Average Metric: 3.00 / 3 (100.0%): 100%|██████████| 3/3 [00:00<00:00, 202.92it/s]"
     ]
    },
    {
     "name": "stderr",
     "output_type": "stream",
     "text": [
      "2025/09/26 20:57:05 INFO dspy.evaluate.evaluate: Average Metric: 3 / 3 (100.0%)\n"
     ]
    },
    {
     "name": "stdout",
     "output_type": "stream",
     "text": [
      "\n",
      "Scores so far: [100.0, 100.0, 100.0, 100.0]\n",
      "Best score so far: 100.0\n"
     ]
    },
    {
     "name": "stderr",
     "output_type": "stream",
     "text": [
      " 40%|████      | 2/5 [00:00<00:00, 44.44it/s]\n"
     ]
    },
    {
     "name": "stdout",
     "output_type": "stream",
     "text": [
      "Bootstrapped 2 full traces after 2 examples for up to 1 rounds, amounting to 2 attempts.\n",
      "Average Metric: 3.00 / 3 (100.0%): 100%|██████████| 3/3 [00:00<00:00, 239.37it/s]"
     ]
    },
    {
     "name": "stderr",
     "output_type": "stream",
     "text": [
      "2025/09/26 20:57:05 INFO dspy.evaluate.evaluate: Average Metric: 3 / 3 (100.0%)\n"
     ]
    },
    {
     "name": "stdout",
     "output_type": "stream",
     "text": [
      "\n",
      "Scores so far: [100.0, 100.0, 100.0, 100.0, 100.0]\n",
      "Best score so far: 100.0\n"
     ]
    },
    {
     "name": "stderr",
     "output_type": "stream",
     "text": [
      " 20%|██        | 1/5 [00:00<00:00, 37.55it/s]\n"
     ]
    },
    {
     "name": "stdout",
     "output_type": "stream",
     "text": [
      "Bootstrapped 1 full traces after 1 examples for up to 1 rounds, amounting to 1 attempts.\n",
      "Average Metric: 3.00 / 3 (100.0%): 100%|██████████| 3/3 [00:00<00:00, 182.02it/s]"
     ]
    },
    {
     "name": "stderr",
     "output_type": "stream",
     "text": [
      "2025/09/26 20:57:05 INFO dspy.evaluate.evaluate: Average Metric: 3 / 3 (100.0%)\n"
     ]
    },
    {
     "name": "stdout",
     "output_type": "stream",
     "text": [
      "\n",
      "Scores so far: [100.0, 100.0, 100.0, 100.0, 100.0, 100.0]\n",
      "Best score so far: 100.0\n"
     ]
    },
    {
     "name": "stderr",
     "output_type": "stream",
     "text": [
      " 40%|████      | 2/5 [00:00<00:00, 30.89it/s]\n"
     ]
    },
    {
     "name": "stdout",
     "output_type": "stream",
     "text": [
      "Bootstrapped 2 full traces after 2 examples for up to 1 rounds, amounting to 2 attempts.\n",
      "Average Metric: 3.00 / 3 (100.0%): 100%|██████████| 3/3 [00:00<00:00, 151.54it/s]"
     ]
    },
    {
     "name": "stderr",
     "output_type": "stream",
     "text": [
      "2025/09/26 20:57:05 INFO dspy.evaluate.evaluate: Average Metric: 3 / 3 (100.0%)\n"
     ]
    },
    {
     "name": "stdout",
     "output_type": "stream",
     "text": [
      "\n",
      "Scores so far: [100.0, 100.0, 100.0, 100.0, 100.0, 100.0, 100.0]\n",
      "Best score so far: 100.0\n"
     ]
    },
    {
     "name": "stderr",
     "output_type": "stream",
     "text": [
      " 40%|████      | 2/5 [00:00<00:00, 38.99it/s]\n"
     ]
    },
    {
     "name": "stdout",
     "output_type": "stream",
     "text": [
      "Bootstrapped 2 full traces after 2 examples for up to 1 rounds, amounting to 2 attempts.\n",
      "Average Metric: 3.00 / 3 (100.0%): 100%|██████████| 3/3 [00:00<00:00, 174.86it/s]"
     ]
    },
    {
     "name": "stderr",
     "output_type": "stream",
     "text": [
      "2025/09/26 20:57:05 INFO dspy.evaluate.evaluate: Average Metric: 3 / 3 (100.0%)\n"
     ]
    },
    {
     "name": "stdout",
     "output_type": "stream",
     "text": [
      "\n",
      "Scores so far: [100.0, 100.0, 100.0, 100.0, 100.0, 100.0, 100.0, 100.0]\n",
      "Best score so far: 100.0\n"
     ]
    },
    {
     "name": "stderr",
     "output_type": "stream",
     "text": [
      " 60%|██████    | 3/5 [00:00<00:00, 41.02it/s]\n"
     ]
    },
    {
     "name": "stdout",
     "output_type": "stream",
     "text": [
      "Bootstrapped 3 full traces after 3 examples for up to 1 rounds, amounting to 3 attempts.\n",
      "Average Metric: 3.00 / 3 (100.0%): 100%|██████████| 3/3 [00:00<00:00, 186.08it/s]"
     ]
    },
    {
     "name": "stderr",
     "output_type": "stream",
     "text": [
      "2025/09/26 20:57:05 INFO dspy.evaluate.evaluate: Average Metric: 3 / 3 (100.0%)\n"
     ]
    },
    {
     "name": "stdout",
     "output_type": "stream",
     "text": [
      "\n",
      "Scores so far: [100.0, 100.0, 100.0, 100.0, 100.0, 100.0, 100.0, 100.0, 100.0]\n",
      "Best score so far: 100.0\n"
     ]
    },
    {
     "name": "stderr",
     "output_type": "stream",
     "text": [
      " 20%|██        | 1/5 [00:00<00:00, 35.96it/s]"
     ]
    },
    {
     "name": "stdout",
     "output_type": "stream",
     "text": [
      "Bootstrapped 1 full traces after 1 examples for up to 1 rounds, amounting to 1 attempts.\n"
     ]
    },
    {
     "name": "stderr",
     "output_type": "stream",
     "text": [
      "\n"
     ]
    },
    {
     "name": "stdout",
     "output_type": "stream",
     "text": [
      "Average Metric: 3.00 / 3 (100.0%): 100%|██████████| 3/3 [00:00<00:00, 158.83it/s]"
     ]
    },
    {
     "name": "stderr",
     "output_type": "stream",
     "text": [
      "2025/09/26 20:57:05 INFO dspy.evaluate.evaluate: Average Metric: 3 / 3 (100.0%)\n"
     ]
    },
    {
     "name": "stdout",
     "output_type": "stream",
     "text": [
      "\n",
      "Scores so far: [100.0, 100.0, 100.0, 100.0, 100.0, 100.0, 100.0, 100.0, 100.0, 100.0]\n",
      "Best score so far: 100.0\n"
     ]
    },
    {
     "name": "stderr",
     "output_type": "stream",
     "text": [
      " 60%|██████    | 3/5 [00:00<00:00, 40.47it/s]\n"
     ]
    },
    {
     "name": "stdout",
     "output_type": "stream",
     "text": [
      "Bootstrapped 3 full traces after 3 examples for up to 1 rounds, amounting to 3 attempts.\n",
      "Average Metric: 3.00 / 3 (100.0%): 100%|██████████| 3/3 [00:00<00:00, 166.61it/s]"
     ]
    },
    {
     "name": "stderr",
     "output_type": "stream",
     "text": [
      "2025/09/26 20:57:05 INFO dspy.evaluate.evaluate: Average Metric: 3 / 3 (100.0%)\n"
     ]
    },
    {
     "name": "stdout",
     "output_type": "stream",
     "text": [
      "\n",
      "Scores so far: [100.0, 100.0, 100.0, 100.0, 100.0, 100.0, 100.0, 100.0, 100.0, 100.0, 100.0]\n",
      "Best score so far: 100.0\n",
      "11 candidate programs found.\n"
     ]
    }
   ],
   "source": [
    "# Define DSPy signature for stock price movement prediction\n",
    "class StockPricePrediction(dspy.Signature):\n",
    "    \"\"\"\n",
    "    Predict whether a stock's price will go up, down, or remain neutral based on the news headline.\n",
    "    \"\"\"\n",
    "    headline: str = dspy.InputField(desc=\"A news headline about a company's stock price.\")\n",
    "    answer: str = dspy.OutputField(desc=\"The predicted sentiment of the stock price: 'Up', 'Down', or 'Neutral'.\")\n",
    "\n",
    "# Define DSPy module with chain-of-thought\n",
    "class StockPriceCoT(dspy.Module):\n",
    "    def __init__(self):\n",
    "        super().__init__()\n",
    "        self.prog = dspy.ChainOfThought(StockPricePrediction)\n",
    "\n",
    "    def forward(self, headline: str) -> str:\n",
    "        return self.prog(headline=headline)\n",
    "\n",
    "# Define simple evaluation metric\n",
    "def stock_prediction_metric(example, pred, trace=None):\n",
    "    return example.answer.lower() == pred.answer.lower()\n",
    "\n",
    "# Initialize and compile module\n",
    "config = dict(\n",
    "    max_bootstrapped_demos = 4,\n",
    "    max_labeled_demos = 4,\n",
    "    num_candidate_programs = 8,\n",
    "    num_threads = 4\n",
    ")\n",
    "optimizer = BootstrapFewShotWithRandomSearch(metric=stock_prediction_metric, **config)\n",
    "compiled_cot = optimizer.compile(StockPriceCoT(), trainset=train, valset=dev)\n",
    "\n",
    "# Save optimized module\n",
    "compiled_cot.save(\"data/stock_price_cot.json\")"
   ]
  },
  {
   "cell_type": "code",
   "execution_count": 6,
   "id": "68057ba2",
   "metadata": {},
   "outputs": [
    {
     "name": "stdout",
     "output_type": "stream",
     "text": [
      "Headline: TechCorp announces breakthorugh in renewable energy technology.\n",
      "Prediction: Up\n",
      "Dev accuracy: 100.00%\n"
     ]
    }
   ],
   "source": [
    "# Example usage: predict stock price movement for a new headline\n",
    "new_headline = \"TechCorp announces breakthorugh in renewable energy technology.\"\n",
    "prediction = compiled_cot(headline=new_headline)\n",
    "\n",
    "print(f\"Headline: {new_headline}\")\n",
    "print(f\"Prediction: {prediction.answer}\")\n",
    "\n",
    "# Evaluate on dev\n",
    "correct = 0\n",
    "for example in dev:\n",
    "    pred = compiled_cot(headline=example.headline)\n",
    "    if stock_prediction_metric(example, pred):\n",
    "        correct += 1\n",
    "accuracy = correct / len(dev)\n",
    "print(f\"Dev accuracy: {accuracy:.2%}\")"
   ]
  },
  {
   "cell_type": "markdown",
   "id": "50443735",
   "metadata": {},
   "source": [
    "# Prompt Optimization"
   ]
  },
  {
   "cell_type": "code",
   "execution_count": 19,
   "id": "9a7db96b",
   "metadata": {},
   "outputs": [],
   "source": [
    "import os\n",
    "\n",
    "import dspy\n",
    "from dspy.evaluate import Evaluate\n",
    "from dspy.teleprompt import MIPROv2\n",
    "# TODO: test GEPA with full trace\n"
   ]
  },
  {
   "cell_type": "markdown",
   "id": "67e0c976",
   "metadata": {},
   "source": [
    "## Synthetic dataset for portfolio optimization"
   ]
  },
  {
   "cell_type": "code",
   "execution_count": 8,
   "id": "c8e1297c",
   "metadata": {},
   "outputs": [],
   "source": [
    "# Training set\n",
    "train = [\n",
    "    dspy.Example(\n",
    "        headline=\"TechCorp Q2 earnings soar 25%, beating estimates; AI division grows 40%\",\n",
    "        fundamentals=\"P/E: 22, Rev Growth: 15%\",\n",
    "        market_conditions=\"VIX: 18 (moderate)\",\n",
    "        answer=\"Buy\",\n",
    "        rationale=\"Positive earnings and strong AI growth outweigh market volatility.\"\n",
    "    ).with_inputs(\"headline\", \"fundamentals\", \"market_conditions\"),\n",
    "    dspy.Example(\n",
    "        headline=\"PharmaCo faces patent expiration; new drug trials delayed.\",\n",
    "        fundamentals=\"P/E: 30, Rev Growth: -5%\",\n",
    "        market_conditions=\"VIX: 25 (high)\",\n",
    "        answer=\"Sell\",\n",
    "        rationale=\"Patent expiration and negative growth combined with high volatility suggest risk.\"\n",
    "    ).with_inputs(\"headline\", \"fundamentals\", \"market_conditions\"),\n",
    "    dspy.Example(\n",
    "        headline=\"EnergyCorp secures $1B renewable contract; stock steady.\",\n",
    "        fundamentals=\"P/E: 18, Rev Growth: 10%\",\n",
    "        market_conditions=\"VIX: 15 (low)\",\n",
    "        answer=\"Buy\",\n",
    "        rationale=\"Contract win and solid fundamentals in stable market favor upside.\"\n",
    "    ).with_inputs(\"headline\", \"fundamentals\", \"market_conditions\"),\n",
    "    dspy.Example(\n",
    "        headline=\"RetailerCo reports flat sales amid consumer slowdown\",\n",
    "        fundamentals=\"P/E: 20, Rev Growth: 0%\",\n",
    "        market_conditions=\"VIX: 20 (moderate)\",\n",
    "        answer=\"Hold\",\n",
    "        rationale=\"Flat sales and stable fundamentals suggest no immediate action.\"\n",
    "    ).with_inputs(\"headline\", \"fundamentals\", \"market_conditions\"),\n",
    "    dspy.Example(\n",
    "        headline=\"AutoCo launches EV model, but supply chain issues persist.\",\n",
    "        fundamentals=\"P/E: 25, Rev Growth: 8%\",\n",
    "        market_conditions=\"VIX: 22 (moderate)\",\n",
    "        answer=\"Hold\",\n",
    "        rationale=\"EV launch is positive, but supply chain risks and moderate volatility balance out.\"\n",
    "    ).with_inputs(\"headline\", \"fundamentals\", \"market_conditions\"),\n",
    "    dspy.Example(\n",
    "        headline=\"Global Bank fined $500M for compliance failures; CEO resigns.\",\n",
    "        fundamentals=\"P/E: 15, Rev Growth: 2%\",\n",
    "        market_conditions=\"VIX: 28 (high)\",\n",
    "        answer=\"Sell\",\n",
    "        rationale=\"Significant fine, leadership uncertainty, and high market volatility create a strong sell signal.\"\n",
    "    ).with_inputs(\"headline\", \"fundamentals\", \"market_conditions\"),\n",
    "    dspy.Example(\n",
    "        headline=\"BioGen gets FDA approval for groundbreaking cancer treatment.\",\n",
    "        fundamentals=\"P/E: 40, Rev Growth: 5%\",\n",
    "        market_conditions=\"VIX: 16 (low)\",\n",
    "        answer=\"Buy\",\n",
    "        rationale=\"Major FDA approval is a significant catalyst that justifies the high P/E in a stable market.\"\n",
    "    ).with_inputs(\"headline\", \"fundamentals\", \"market_conditions\"),\n",
    "    dspy.Example(\n",
    "        headline=\"CloudNet announces partnership with major enterprise software firm.\",\n",
    "        fundamentals=\"P/E: 35, Rev Growth: 20%\",\n",
    "        market_conditions=\"VIX: 19 (moderate)\",\n",
    "        answer=\"Buy\",\n",
    "        rationale=\"Strategic partnership coupled with strong revenue growth indicates future potential.\"\n",
    "    ).with_inputs(\"headline\", \"fundamentals\", \"market_conditions\"),\n",
    "    dspy.Example(\n",
    "        headline=\"AeroSpace Inc. misses Q3 delivery targets due to labor strike.\",\n",
    "        fundamentals=\"P/E: 28, Rev Growth: 3%\",\n",
    "        market_conditions=\"VIX: 21 (moderate)\",\n",
    "        answer=\"Sell\",\n",
    "        rationale=\"Missed targets and labor issues suggest operational problems and potential for further downside.\"\n",
    "    ).with_inputs(\"headline\", \"fundamentals\", \"market_conditions\"),\n",
    "    dspy.Example(\n",
    "        headline=\"Utility giant maintains dividend, reports consistent but slow growth.\",\n",
    "        fundamentals=\"P/E: 19, Rev Growth: 1%\",\n",
    "        market_conditions=\"VIX: 17 (low)\",\n",
    "        answer=\"Hold\",\n",
    "        rationale=\"Company performance is stable and predictable; no strong catalyst for a buy or sell.\"\n",
    "    ).with_inputs(\"headline\", \"fundamentals\", \"market_conditions\"),\n",
    "    dspy.Example(\n",
    "        headline=\"Logistics Co. benefits from e-commerce boom, but fuel costs rise.\",\n",
    "        fundamentals=\"P/E: 23, Rev Growth: 12%\",\n",
    "        market_conditions=\"VIX: 23 (moderate)\",\n",
    "        answer=\"Hold\",\n",
    "        rationale=\"Positive revenue trend is offset by rising costs and market uncertainty.\"\n",
    "    ).with_inputs(\"headline\", \"fundamentals\", \"market_conditions\"),\n",
    "    dspy.Example(\n",
    "        headline=\"FinTech innovator loses key executive to competitor.\",\n",
    "        fundamentals=\"P/E: 50, Rev Growth: 30%\",\n",
    "        market_conditions=\"VIX: 26 (high)\",\n",
    "        answer=\"Sell\",\n",
    "        rationale=\"Loss of key talent in a high-growth, high-valuation company amid market volatility is a major red flag.\"\n",
    "    ).with_inputs(\"headline\", \"fundamentals\", \"market_conditions\"),\n",
    "    dspy.Example(\n",
    "        headline=\"Mining Corp discovers new significant mineral deposit.\",\n",
    "        fundamentals=\"P/E: 16, Rev Growth: 7%\",\n",
    "        market_conditions=\"VIX: 14 (low)\",\n",
    "        answer=\"Buy\",\n",
    "        rationale=\"A major discovery with solid fundamentals and a calm market points to significant upside.\"\n",
    "    ).with_inputs(\"headline\", \"fundamentals\", \"market_conditions\"),\n",
    "    dspy.Example(\n",
    "        headline=\"Media Conglomerate to spin off its streaming division.\",\n",
    "        fundamentals=\"P/E: 21, Rev Growth: 4%\",\n",
    "        market_conditions=\"VIX: 20 (moderate)\",\n",
    "        answer=\"Hold\",\n",
    "        rationale=\"A corporate restructuring creates uncertainty; best to wait and see how the market values the separate entities.\"\n",
    "    ).with_inputs(\"headline\", \"fundamentals\", \"market_conditions\"),\n",
    "    dspy.Example(\n",
    "        headline=\"ChipMaker warns of lower demand for PCs and smartphones.\",\n",
    "        fundamentals=\"P/E: 18, Rev Growth: 5%\",\n",
    "        market_conditions=\"VIX: 24 (high)\",\n",
    "        answer=\"Sell\",\n",
    "        rationale=\"A demand warning in a key sector combined with high market volatility suggests a downturn.\"\n",
    "    ).with_inputs(\"headline\", \"fundamentals\", \"market_conditions\"),\n",
    "    dspy.Example(\n",
    "        headline=\"AgriBusiness Inc. sees record crop yields due to favorable weather.\",\n",
    "        fundamentals=\"P/E: 14, Rev Growth: 9%\",\n",
    "        market_conditions=\"VIX: 15 (low)\",\n",
    "        answer=\"Buy\",\n",
    "        rationale=\"Excellent operational results, a low valuation, and a stable market create a compelling buy case.\"\n",
    "    ).with_inputs(\"headline\", \"fundamentals\", \"market_conditions\"),\n",
    "    dspy.Example(\n",
    "        headline=\"Software Corp announces share buyback program after stock dip.\",\n",
    "        fundamentals=\"P/E: 26, Rev Growth: 11%\",\n",
    "        market_conditions=\"VIX: 19 (moderate)\",\n",
    "        answer=\"Buy\",\n",
    "        rationale=\"A share buyback signals management confidence in the company's value, suggesting a good entry point.\"\n",
    "    ).with_inputs(\"headline\", \"fundamentals\", \"market_conditions\"),\n",
    "    dspy.Example(\n",
    "        headline=\"Heavy Machinery Co. reports decline in international orders.\",\n",
    "        fundamentals=\"P/E: 22, Rev Growth: -2%\",\n",
    "        market_conditions=\"VIX: 22 (moderate)\",\n",
    "        answer=\"Sell\",\n",
    "        rationale=\"Declining orders and negative revenue growth point to fundamental weakness.\"\n",
    "    ).with_inputs(\"headline\", \"fundamentals\", \"market_conditions\"),\n",
    "    dspy.Example(\n",
    "        headline=\"Telecom provider expands 5G network to 10 new cities.\",\n",
    "        fundamentals=\"P/E: 20, Rev Growth: 3%\",\n",
    "        market_conditions=\"VIX: 18 (moderate)\",\n",
    "        answer=\"Hold\",\n",
    "        rationale=\"Network expansion is a positive long-term investment, but slow growth suggests no immediate catalyst.\"\n",
    "    ).with_inputs(\"headline\", \"fundamentals\", \"market_conditions\"),\n",
    "    dspy.Example(\n",
    "        headline=\"Consumer brand faces social media backlash over controversial ad campaign.\",\n",
    "        fundamentals=\"P/E: 29, Rev Growth: 6%\",\n",
    "        market_conditions=\"VIX: 27 (high)\",\n",
    "        answer=\"Sell\",\n",
    "        rationale=\"Brand damage combined with a high P/E and volatile market presents significant risk.\"\n",
    "    ).with_inputs(\"headline\", \"fundamentals\", \"market_conditions\"),\n",
    "]\n",
    "\n",
    "# Development set\n",
    "dev = [\n",
    "    dspy.Example(\n",
    "        headline=\"TechCorp's AI division faces regulatory scrutiny in Europe.\",\n",
    "        fundamentals=\"P/E: 25, Rev Growth: 10%\",\n",
    "        market_conditions=\"VIX: 22 (elevated)\",\n",
    "        answer=\"Sell\",\n",
    "        rationale=\"Regulatory concerns in a major market create uncertainty that outweighs the decent growth.\"\n",
    "    ).with_inputs(\"headline\", \"fundamentals\", \"market_conditions\"),\n",
    "    dspy.Example(\n",
    "        headline=\"PharmaCo announces positive results from Phase 2 trial of new Alzheimer's drug.\",\n",
    "        fundamentals=\"P/E: 38, Rev Growth: 2%\",\n",
    "        market_conditions=\"VIX: 16 (low)\",\n",
    "        answer=\"Buy\",\n",
    "        rationale=\"Positive trial results for a high-impact drug is a major catalyst, justifying the high P/E.\"\n",
    "    ).with_inputs(\"headline\", \"fundamentals\", \"market_conditions\"),\n",
    "    dspy.Example(\n",
    "        headline=\"EnergyCorp's quarterly profits are stable, in line with expectations.\",\n",
    "        fundamentals=\"P/E: 17, Rev Growth: 3%\",\n",
    "        market_conditions=\"VIX: 19 (moderate)\",\n",
    "        answer=\"Hold\",\n",
    "        rationale=\"Meeting expectations without any surprises suggests the current price is fair; no need for action.\"\n",
    "    ).with_inputs(\"headline\", \"fundamentals\", \"market_conditions\"),\n",
    "    dspy.Example(\n",
    "        headline=\"RetailerCo acquires smaller online competitor to boost e-commerce presence.\",\n",
    "        fundamentals=\"P/E: 24, Rev Growth: 5%\",\n",
    "        market_conditions=\"VIX: 21 (moderate)\",\n",
    "        answer=\"Buy\",\n",
    "        rationale=\"Strategic acquisition addresses a key growth area and signals proactive management.\"\n",
    "    ).with_inputs(\"headline\", \"fundamentals\", \"market_conditions\"),\n",
    "    dspy.Example(\n",
    "        headline=\"AutoCo's new EV model receives mixed reviews from early testers.\",\n",
    "        fundamentals=\"P/E: 27, Rev Growth: 7%\",\n",
    "        market_conditions=\"VIX: 25 (high)\",\n",
    "        answer=\"Hold\",\n",
    "        rationale=\"Mixed reviews create uncertainty about a key product launch, making it prudent to wait for more data.\"\n",
    "    ).with_inputs(\"headline\", \"fundamentals\", \"market_conditions\"),\n",
    "    dspy.Example(\n",
    "        headline=\"Global Bank's dividend yield remains attractive despite slow loan growth.\",\n",
    "        fundamentals=\"P/E: 14, Rev Growth: 1%\",\n",
    "        market_conditions=\"VIX: 18 (moderate)\",\n",
    "        answer=\"Hold\",\n",
    "        rationale=\"The attractive dividend provides support for the stock, but slow growth limits upside potential.\"\n",
    "    ).with_inputs(\"headline\", \"fundamentals\", \"market_conditions\"),\n",
    "    dspy.Example(\n",
    "        headline=\"BioGen faces new competitor for its top-selling drug.\",\n",
    "        fundamentals=\"P/E: 33, Rev Growth: 8%\",\n",
    "        market_conditions=\"VIX: 26 (high)\",\n",
    "        answer=\"Sell\",\n",
    "        rationale=\"New competition for a key product threatens future revenue streams, especially with a high valuation and market volatility.\"\n",
    "    ).with_inputs(\"headline\", \"fundamentals\", \"market_conditions\"),\n",
    "    dspy.Example(\n",
    "        headline=\"CloudNet's data center expansion is completed ahead of schedule and under budget.\",\n",
    "        fundamentals=\"P/E: 40, Rev Growth: 18%\",\n",
    "        market_conditions=\"VIX: 17 (low)\",\n",
    "        answer=\"Buy\",\n",
    "        rationale=\"Excellent operational execution on a key growth project supports the high valuation in a stable market.\"\n",
    "    ).with_inputs(\"headline\", \"fundamentals\", \"market_conditions\"),\n",
    "    dspy.Example(\n",
    "        headline=\"AeroSpace Inc. is downgraded by two major investment banks.\",\n",
    "        fundamentals=\"P/E: 26, Rev Growth: 4%\",\n",
    "        market_conditions=\"VIX: 23 (moderate)\",\n",
    "        answer=\"Sell\",\n",
    "        rationale=\"Analyst downgrades can trigger institutional selling and indicate underlying problems not yet public.\"\n",
    "    ).with_inputs(\"headline\", \"fundamentals\", \"market_conditions\"),\n",
    "    dspy.Example(\n",
    "        headline=\"Utility giant plans gradual rate hikes over the next three years.\",\n",
    "        fundamentals=\"P/E: 20, Rev Growth: 2%\",\n",
    "        market_conditions=\"VIX: 15 (low)\",\n",
    "        answer=\"Hold\",\n",
    "        rationale=\"Planned rate hikes provide future earnings visibility but are not a significant catalyst for immediate upside.\"\n",
    "    ).with_inputs(\"headline\", \"fundamentals\", \"market_conditions\"),\n",
    "]"
   ]
  },
  {
   "cell_type": "markdown",
   "id": "6392a40c",
   "metadata": {},
   "source": [
    "## Define DSPy signature/modules"
   ]
  },
  {
   "cell_type": "code",
   "execution_count": null,
   "id": "87ee4973",
   "metadata": {},
   "outputs": [
    {
     "ename": "TypeError",
     "evalue": "GEPA metric must accept five arguments: (gold, pred, trace, pred_name, pred_trace). See https://dspy.ai/api/optimizers/GEPA for details.",
     "output_type": "error",
     "traceback": [
      "\u001b[0;31m---------------------------------------------------------------------------\u001b[0m",
      "\u001b[0;31mTypeError\u001b[0m                                 Traceback (most recent call last)",
      "File \u001b[0;32m~/Library/Caches/pypoetry/virtualenvs/trulens-gcbF4QQE-py3.11/lib/python3.11/site-packages/dspy/teleprompt/gepa/gepa.py:287\u001b[0m, in \u001b[0;36mGEPA.__init__\u001b[0;34m(self, metric, auto, max_full_evals, max_metric_calls, reflection_minibatch_size, candidate_selection_strategy, reflection_lm, skip_perfect_score, add_format_failure_as_feedback, use_merge, max_merge_invocations, num_threads, failure_score, perfect_score, log_dir, track_stats, use_wandb, wandb_api_key, wandb_init_kwargs, track_best_outputs, seed)\u001b[0m\n\u001b[1;32m    286\u001b[0m \u001b[38;5;28;01mtry\u001b[39;00m:\n\u001b[0;32m--> 287\u001b[0m     \u001b[43minspect\u001b[49m\u001b[38;5;241;43m.\u001b[39;49m\u001b[43msignature\u001b[49m\u001b[43m(\u001b[49m\u001b[43mmetric\u001b[49m\u001b[43m)\u001b[49m\u001b[38;5;241;43m.\u001b[39;49m\u001b[43mbind\u001b[49m\u001b[43m(\u001b[49m\u001b[38;5;28;43;01mNone\u001b[39;49;00m\u001b[43m,\u001b[49m\u001b[43m \u001b[49m\u001b[38;5;28;43;01mNone\u001b[39;49;00m\u001b[43m,\u001b[49m\u001b[43m \u001b[49m\u001b[38;5;28;43;01mNone\u001b[39;49;00m\u001b[43m,\u001b[49m\u001b[43m \u001b[49m\u001b[38;5;28;43;01mNone\u001b[39;49;00m\u001b[43m,\u001b[49m\u001b[43m \u001b[49m\u001b[38;5;28;43;01mNone\u001b[39;49;00m\u001b[43m)\u001b[49m\n\u001b[1;32m    288\u001b[0m \u001b[38;5;28;01mexcept\u001b[39;00m \u001b[38;5;167;01mTypeError\u001b[39;00m \u001b[38;5;28;01mas\u001b[39;00m e:\n",
      "File \u001b[0;32m~/.pyenv/versions/3.11.11/lib/python3.11/inspect.py:3195\u001b[0m, in \u001b[0;36mSignature.bind\u001b[0;34m(self, *args, **kwargs)\u001b[0m\n\u001b[1;32m   3191\u001b[0m \u001b[38;5;250m\u001b[39m\u001b[38;5;124;03m\"\"\"Get a BoundArguments object, that maps the passed `args`\u001b[39;00m\n\u001b[1;32m   3192\u001b[0m \u001b[38;5;124;03mand `kwargs` to the function's signature.  Raises `TypeError`\u001b[39;00m\n\u001b[1;32m   3193\u001b[0m \u001b[38;5;124;03mif the passed arguments can not be bound.\u001b[39;00m\n\u001b[1;32m   3194\u001b[0m \u001b[38;5;124;03m\"\"\"\u001b[39;00m\n\u001b[0;32m-> 3195\u001b[0m \u001b[38;5;28;01mreturn\u001b[39;00m \u001b[38;5;28;43mself\u001b[39;49m\u001b[38;5;241;43m.\u001b[39;49m\u001b[43m_bind\u001b[49m\u001b[43m(\u001b[49m\u001b[43margs\u001b[49m\u001b[43m,\u001b[49m\u001b[43m \u001b[49m\u001b[43mkwargs\u001b[49m\u001b[43m)\u001b[49m\n",
      "File \u001b[0;32m~/.pyenv/versions/3.11.11/lib/python3.11/inspect.py:3116\u001b[0m, in \u001b[0;36mSignature._bind\u001b[0;34m(self, args, kwargs, partial)\u001b[0m\n\u001b[1;32m   3115\u001b[0m \u001b[38;5;28;01mexcept\u001b[39;00m \u001b[38;5;167;01mStopIteration\u001b[39;00m:\n\u001b[0;32m-> 3116\u001b[0m     \u001b[38;5;28;01mraise\u001b[39;00m \u001b[38;5;167;01mTypeError\u001b[39;00m(\u001b[38;5;124m'\u001b[39m\u001b[38;5;124mtoo many positional arguments\u001b[39m\u001b[38;5;124m'\u001b[39m) \u001b[38;5;28;01mfrom\u001b[39;00m\u001b[38;5;250m \u001b[39m\u001b[38;5;28;01mNone\u001b[39;00m\n\u001b[1;32m   3117\u001b[0m \u001b[38;5;28;01melse\u001b[39;00m:\n",
      "\u001b[0;31mTypeError\u001b[0m: too many positional arguments",
      "\nThe above exception was the direct cause of the following exception:\n",
      "\u001b[0;31mTypeError\u001b[0m                                 Traceback (most recent call last)",
      "Cell \u001b[0;32mIn[18], line 51\u001b[0m\n\u001b[1;32m     45\u001b[0m \u001b[38;5;66;03m# Initialize and compile module\u001b[39;00m\n\u001b[1;32m     46\u001b[0m config \u001b[38;5;241m=\u001b[39m \u001b[38;5;28mdict\u001b[39m(\n\u001b[1;32m     47\u001b[0m     \u001b[38;5;66;03m# max_bootstrapped_demos = 4,\u001b[39;00m\n\u001b[1;32m     48\u001b[0m     \u001b[38;5;66;03m# max_labeled_demos = 4,\u001b[39;00m\n\u001b[1;32m     49\u001b[0m     \u001b[38;5;66;03m# num_threads = 4\u001b[39;00m\n\u001b[1;32m     50\u001b[0m )\n\u001b[0;32m---> 51\u001b[0m portfolio_optimizer \u001b[38;5;241m=\u001b[39m \u001b[43mGEPA\u001b[49m\u001b[43m(\u001b[49m\u001b[43mmetric\u001b[49m\u001b[38;5;241;43m=\u001b[39;49m\u001b[43mportfolio_recommendation_metric\u001b[49m\u001b[43m,\u001b[49m\u001b[43m \u001b[49m\u001b[38;5;241;43m*\u001b[39;49m\u001b[38;5;241;43m*\u001b[39;49m\u001b[43mconfig\u001b[49m\u001b[43m)\u001b[49m\n\u001b[1;32m     52\u001b[0m compiled_portfolio_cot \u001b[38;5;241m=\u001b[39m portfolio_optimizer\u001b[38;5;241m.\u001b[39mcompile(PortfolioRecommendationCoT(), trainset\u001b[38;5;241m=\u001b[39mtrain, valset\u001b[38;5;241m=\u001b[39mdev)\n\u001b[1;32m     54\u001b[0m \u001b[38;5;66;03m# Save optimized module\u001b[39;00m\n",
      "File \u001b[0;32m~/Library/Caches/pypoetry/virtualenvs/trulens-gcbF4QQE-py3.11/lib/python3.11/site-packages/dspy/teleprompt/gepa/gepa.py:289\u001b[0m, in \u001b[0;36mGEPA.__init__\u001b[0;34m(self, metric, auto, max_full_evals, max_metric_calls, reflection_minibatch_size, candidate_selection_strategy, reflection_lm, skip_perfect_score, add_format_failure_as_feedback, use_merge, max_merge_invocations, num_threads, failure_score, perfect_score, log_dir, track_stats, use_wandb, wandb_api_key, wandb_init_kwargs, track_best_outputs, seed)\u001b[0m\n\u001b[1;32m    287\u001b[0m     inspect\u001b[38;5;241m.\u001b[39msignature(metric)\u001b[38;5;241m.\u001b[39mbind(\u001b[38;5;28;01mNone\u001b[39;00m, \u001b[38;5;28;01mNone\u001b[39;00m, \u001b[38;5;28;01mNone\u001b[39;00m, \u001b[38;5;28;01mNone\u001b[39;00m, \u001b[38;5;28;01mNone\u001b[39;00m)\n\u001b[1;32m    288\u001b[0m \u001b[38;5;28;01mexcept\u001b[39;00m \u001b[38;5;167;01mTypeError\u001b[39;00m \u001b[38;5;28;01mas\u001b[39;00m e:\n\u001b[0;32m--> 289\u001b[0m     \u001b[38;5;28;01mraise\u001b[39;00m \u001b[38;5;167;01mTypeError\u001b[39;00m(\n\u001b[1;32m    290\u001b[0m         \u001b[38;5;124m\"\u001b[39m\u001b[38;5;124mGEPA metric must accept five arguments: (gold, pred, trace, pred_name, pred_trace). \u001b[39m\u001b[38;5;124m\"\u001b[39m\n\u001b[1;32m    291\u001b[0m         \u001b[38;5;124m\"\u001b[39m\u001b[38;5;124mSee https://dspy.ai/api/optimizers/GEPA for details.\u001b[39m\u001b[38;5;124m\"\u001b[39m\n\u001b[1;32m    292\u001b[0m     ) \u001b[38;5;28;01mfrom\u001b[39;00m\u001b[38;5;250m \u001b[39m\u001b[38;5;21;01me\u001b[39;00m\n\u001b[1;32m    294\u001b[0m \u001b[38;5;28mself\u001b[39m\u001b[38;5;241m.\u001b[39mmetric_fn \u001b[38;5;241m=\u001b[39m metric\n\u001b[1;32m    296\u001b[0m \u001b[38;5;66;03m# Budget configuration\u001b[39;00m\n",
      "\u001b[0;31mTypeError\u001b[0m: GEPA metric must accept five arguments: (gold, pred, trace, pred_name, pred_trace). See https://dspy.ai/api/optimizers/GEPA for details."
     ]
    }
   ],
   "source": [
    "class PortfolioRecommendation(dspy.Signature):\n",
    "    \"\"\"\n",
    "    Given a news headline, company fundamentals, and market conditions, recommend whether to Buy, Hold, or Sell a stock.\n",
    "    \"\"\"\n",
    "    headline: str = dspy.InputField(desc=\"A news headline about a company's stock price.\")\n",
    "    fundamentals: str = dspy.InputField(desc=\"Fundamental metrics of the company: P/E ratio, revenue growth, etc.\")\n",
    "    market_conditions: str = dspy.InputField(desc=\"Current market conditions: VIX index, market sentiment, etc.\")\n",
    "    answer: str = dspy.OutputField(desc=\"The recommended action: 'Buy', 'Hold', or 'Sell'.\")\n",
    "    rationale: str = dspy.OutputField(desc=\"A reasoning for the recommendation based on the headline, fundamentals, and market conditions.\")\n",
    "\n",
    "# Define DSPy module with chain-of-thought\n",
    "class PortfolioRecommendationCoT(dspy.Module):\n",
    "    def __init__(self):\n",
    "        super().__init__()\n",
    "        self.prog = dspy.ChainOfThought(PortfolioRecommendation)\n",
    "\n",
    "        # agent call\n",
    "\n",
    "    def forward(self, headline: str, fundamentals: str, market_conditions: str) -> str:\n",
    "        return self.prog(\n",
    "            headline=headline,\n",
    "            fundamentals=fundamentals,\n",
    "            market_conditions=market_conditions\n",
    "        )\n",
    "\n",
    "# Define simple evaluation metric\n",
    "def portfolio_recommendation_metric(example, pred, trace=None):\n",
    "    # check the gold label and the predicted answer are the same\n",
    "    answer_match = example.answer.lower() == pred.answer.lower()\n",
    "\n",
    "    # check the predicted answer rationale is relevant to the headline, fundamentals, and market conditions\n",
    "    from trulens.providers.openai import OpenAI\n",
    "    provider = OpenAI(model_engine=\"gpt-4o\")\n",
    "    rationale_match = provider.relevance_with_cot_reasons(\n",
    "        example.headline,\n",
    "        pred.rationale\n",
    "    )[0] > 0.67\n",
    "\n",
    "    if trace is None: # if we're doing evaluation or optimization\n",
    "        return (answer_match + rationale_match) / 2.0\n",
    "    else: # if we're doing bootstrapping, i.e. self-generating good demonstrations of each step\n",
    "        return answer_match and rationale_match\n",
    "\n",
    "    \n",
    "# Initialize and compile module\n",
    "config = dict(\n",
    "    max_bootstrapped_demos = 4,\n",
    "    max_labeled_demos = 4,\n",
    "    num_threads = 4\n",
    ")\n",
    "portfolio_optimizer = MIPROv2(metric=portfolio_recommendation_metric, **config)\n",
    "compiled_portfolio_cot = portfolio_optimizer.compile(PortfolioRecommendationCoT(), trainset=train, valset=dev)\n",
    "\n",
    "# Save optimized module\n",
    "compiled_portfolio_cot.save(\"data/portfolio_recommendation_cot.json\")\n",
    "    "
   ]
  },
  {
   "cell_type": "code",
   "execution_count": 13,
   "id": "2cbc782f",
   "metadata": {},
   "outputs": [
    {
     "name": "stdout",
     "output_type": "stream",
     "text": [
      "Headline: TechCorp announces breakthrough in renewable energy technology.\n",
      "Fundamentals: P/E: 22, Rev Growth: 5%\n",
      "Market Conditions: VIX: 27 (high)\n",
      "Prediction: Hold\n",
      "Rationale: The headline adds promising optionality, but with modest current growth and a valuation that isn’t cheap for 5% revenue growth, the stock lacks downside protection if commercialization is slower or cost curves disappoint. Elevated market volatility increases the risk of headline whipsaws. Wait for concrete proof points—e.g., third-party validation, pilot results with clear cost/margin benefits, IP/patent details, customer MOUs or orders, and financing/partnerships—before upgrading to Buy. Consider trimming into any sharp spike if no substantiating details emerge.\n",
      "Dev accuracy: 100.00%\n"
     ]
    }
   ],
   "source": [
    "# Example usage: predict portfolio recommendation for a new headline, fundamentals, and market conditions\n",
    "new_headline = \"TechCorp announces breakthrough in renewable energy technology.\"\n",
    "new_fundamentals = \"P/E: 22, Rev Growth: 5%\"\n",
    "new_market_conditions = \"VIX: 27 (high)\"\n",
    "\n",
    "prediction = compiled_portfolio_cot(\n",
    "    headline=new_headline, \n",
    "    fundamentals=new_fundamentals, \n",
    "    market_conditions=new_market_conditions\n",
    ")\n",
    "\n",
    "print(f\"Headline: {new_headline}\")\n",
    "print(f\"Fundamentals: {new_fundamentals}\")\n",
    "print(f\"Market Conditions: {new_market_conditions}\")\n",
    "print(f\"Prediction: {prediction.answer}\")\n",
    "print(f\"Rationale: {prediction.rationale}\")\n",
    "\n",
    "# Evaluate on dev\n",
    "correct = 0\n",
    "for example in dev:\n",
    "    pred = compiled_portfolio_cot(\n",
    "        headline=example.headline,\n",
    "        fundamentals=example.fundamentals, \n",
    "        market_conditions=example.market_conditions)\n",
    "    if portfolio_recommendation_metric(example, pred):\n",
    "        correct += 1\n",
    "accuracy = correct / len(dev)\n",
    "print(f\"Dev accuracy: {accuracy:.2%}\")"
   ]
  }
 ],
 "metadata": {
  "kernelspec": {
   "display_name": "trulens-gcbF4QQE-py3.11",
   "language": "python",
   "name": "python3"
  },
  "language_info": {
   "codemirror_mode": {
    "name": "ipython",
    "version": 3
   },
   "file_extension": ".py",
   "mimetype": "text/x-python",
   "name": "python",
   "nbconvert_exporter": "python",
   "pygments_lexer": "ipython3",
   "version": "3.11.11"
  }
 },
 "nbformat": 4,
 "nbformat_minor": 5
}
