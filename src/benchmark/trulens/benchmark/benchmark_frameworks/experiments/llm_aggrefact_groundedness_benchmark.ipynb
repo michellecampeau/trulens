{
 "cells": [
  {
   "cell_type": "markdown",
   "metadata": {},
   "source": [
    "### Large-scale meta evaluation on groundedness feedback function with [LLM-AggreFact](https://huggingface.co/datasets/lytang/LLM-AggreFact) "
   ]
  },
  {
   "cell_type": "code",
   "execution_count": null,
   "metadata": {},
   "outputs": [],
   "source": [
    "from datasets import load_dataset\n",
    "\n",
    "llm_aggrefact_dataset = load_dataset(\"lytang/LLM-AggreFact\")\n",
    "llm_aggrefact_dev, llm_aggrefact_test = (\n",
    "    llm_aggrefact_dataset[\"dev\"],\n",
    "    llm_aggrefact_dataset[\"test\"],\n",
    ")"
   ]
  },
  {
   "cell_type": "code",
   "execution_count": null,
   "metadata": {},
   "outputs": [],
   "source": [
    "len(llm_aggrefact_dev), len(llm_aggrefact_test)"
   ]
  }
 ],
 "metadata": {
  "kernelspec": {
   "display_name": "trulens",
   "language": "python",
   "name": "python3"
  },
  "language_info": {
   "codemirror_mode": {
    "name": "ipython",
    "version": 3
   },
   "file_extension": ".py",
   "mimetype": "text/x-python",
   "name": "python",
   "nbconvert_exporter": "python",
   "pygments_lexer": "ipython3"
  }
 },
 "nbformat": 4,
 "nbformat_minor": 2
}
