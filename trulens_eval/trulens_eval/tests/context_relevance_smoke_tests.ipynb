{
 "cells": [
  {
   "attachments": {},
   "cell_type": "markdown",
   "metadata": {},
   "source": [
    "## Context Relevance Evaluations\n",
    "\n",
    "In many ways, feedbacks can be thought of as LLM apps themselves. Given text, they return some result. Thinking in this way, we can use TruLens to evaluate and track our feedback quality. We can even do this for different models (e.g. gpt-3.5 and gpt-4) or prompting schemes (such as chain-of-thought reasoning).\n",
    "\n",
    "This notebook follows an evaluation of a set of test cases. You are encouraged to run this on your own and even expand the test cases to evaluate performance on test cases applicable to your scenario or domain."
   ]
  },
  {
   "cell_type": "code",
   "execution_count": null,
   "metadata": {},
   "outputs": [],
   "source": [
    "# Import relevance feedback function\n",
    "from trulens_eval.feedback import GroundTruthAgreement, OpenAI, LiteLLM\n",
    "from trulens_eval import TruBasicApp, Feedback, Tru, Select\n",
    "from test_cases import context_relevance_golden_set\n",
    "\n",
    "import openai\n",
    "\n",
    "Tru().reset_database()"
   ]
  },
  {
   "cell_type": "code",
   "execution_count": 2,
   "metadata": {},
   "outputs": [],
   "source": [
    "import os\n",
    "os.environ[\"OPENAI_API_KEY\"] = \"...\"\n",
    "os.environ[\"COHERE_API_KEY\"] = \"...\"\n",
    "os.environ[\"HUGGINGFACE_API_KEY\"] = \"...\"\n",
    "os.environ[\"ANTHROPIC_API_KEY\"] = \"...\"\n",
    "os.environ[\"TOGETHERAI_API_KEY\"] = \"...\""
   ]
  },
  {
   "cell_type": "code",
   "execution_count": 3,
   "metadata": {},
   "outputs": [],
   "source": [
    "# GPT 3.5\n",
    "turbo = OpenAI(model_engine=\"gpt-3.5-turbo\")\n",
    "\n",
    "def wrapped_relevance_turbo(input, output):\n",
    "    return turbo.qs_relevance(input, output)\n",
    "def wrapped_relevance_with_cot_turbo(input, output):\n",
    "    return turbo.qs_relevance_with_cot_reasons(input, output)\n",
    "\n",
    "# GPT 4\n",
    "gpt4 = OpenAI(model_engine=\"gpt-4\")\n",
    "\n",
    "def wrapped_relevance_gpt4(input, output):\n",
    "    return gpt4.qs_relevance(input, output)\n",
    "def wrapped_relevance_with_cot_gpt4(input, output):\n",
    "    return gpt4.qs_relevance_with_cot_reasons(input, output)\n",
    "\n",
    "# Cohere\n",
    "command_nightly = LiteLLM(model_engine=\"command-nightly\")\n",
    "def wrapped_relevance_command_nightly(input, output):\n",
    "    return command_nightly.qs_relevance(input, output)\n",
    "\n",
    "# Anthropic\n",
    "claude_1 = LiteLLM(model_engine=\"claude-instant-1\")\n",
    "def wrapped_relevance_claude1(input, output):\n",
    "    return claude_1.qs_relevance(input, output)\n",
    "\n",
    "claude_2 = LiteLLM(model_engine=\"claude-2\")\n",
    "def wrapped_relevance_claude2(input, output):\n",
    "    return claude_2.qs_relevance(input, output)\n",
    "\n",
    "# Meta\n",
    "llama_2_13b = LiteLLM(model_engine=\"togethercomputer/llama-2-7b\")\n",
    "def wrapped_relevance_llama2(input, output):\n",
    "    return llama_2_13b.qs_relevance(input, output)"
   ]
  },
  {
   "attachments": {},
   "cell_type": "markdown",
   "metadata": {},
   "source": [
    "Here we'll set up our golden set as a set of prompts, responses and expected scores stored in `test_cases.py`. Then, our numeric_difference method will look up the expected score for each prompt/response pair by **exact match**. After looking up the expected score, we will then take the L1 difference between the actual score and expected score."
   ]
  },
  {
   "cell_type": "code",
   "execution_count": 4,
   "metadata": {},
   "outputs": [
    {
     "name": "stdout",
     "output_type": "stream",
     "text": [
      "✅ In Context Relevance Smoke Test, input prompt will be set to *.__record__.calls[0].args.args[0] .\n",
      "✅ In Context Relevance Smoke Test, input response will be set to *.__record__.calls[0].args.args[1] .\n",
      "✅ In Context Relevance Smoke Test, input score will be set to *.__record__.main_output or `Select.RecordOutput` .\n"
     ]
    }
   ],
   "source": [
    "# Create a Feedback object using the numeric_difference method of the ground_truth object\n",
    "ground_truth = GroundTruthAgreement(context_relevance_golden_set)\n",
    "# Call the numeric_difference method with app and record\n",
    "f_groundtruth = Feedback(ground_truth.numeric_difference, name = \"Context Relevance Smoke Test\").on(Select.Record.calls[0].args.args[0]).on(Select.Record.calls[0].args.args[1]).on_output()"
   ]
  },
  {
   "cell_type": "code",
   "execution_count": 5,
   "metadata": {},
   "outputs": [],
   "source": [
    "tru_wrapped_relevance_turbo = TruBasicApp(wrapped_relevance_turbo, app_id = \"context relevance gpt-3.5-turbo\", feedbacks=[f_groundtruth])\n",
    "tru_wrapped_relevance_with_cot_turbo = TruBasicApp(wrapped_relevance_with_cot_turbo, app_id = \"context relevance with cot reasoning gpt-3.5-turbo\", feedbacks=[f_groundtruth])\n",
    "\n",
    "tru_wrapped_relevance_gpt4 = TruBasicApp(wrapped_relevance_gpt4, app_id = \"context relevance gpt-4\", feedbacks=[f_groundtruth])\n",
    "tru_wrapped_relevance_with_cot_gpt4 = TruBasicApp(wrapped_relevance_with_cot_gpt4, app_id = \"context relevance with cot reasoning gpt-4\", feedbacks=[f_groundtruth])\n",
    "\n",
    "tru_wrapped_relevance_commandnightly = TruBasicApp(wrapped_relevance_command_nightly, app_id = \"context relevance Command-Nightly\", feedbacks=[f_groundtruth])\n",
    "\n",
    "tru_wrapped_relevance_claude1 = TruBasicApp(wrapped_relevance_claude1, app_id = \"context relevance Claude 1\", feedbacks=[f_groundtruth])\n",
    "\n",
    "tru_wrapped_relevance_claude2 = TruBasicApp(wrapped_relevance_claude2, app_id = \"context relevance Claude 2\", feedbacks=[f_groundtruth])\n",
    "\n",
    "tru_wrapped_relevance_llama2 = TruBasicApp(wrapped_relevance_llama2, app_id = \"context relevance Llama-2-13b\", feedbacks=[f_groundtruth])"
   ]
  },
  {
   "cell_type": "code",
   "execution_count": null,
   "metadata": {},
   "outputs": [],
   "source": [
    "for i in range(len(context_relevance_golden_set)):\n",
    "    prompt = context_relevance_golden_set[i][\"query\"]\n",
    "    response = context_relevance_golden_set[i][\"response\"]\n",
    "    tru_wrapped_relevance_turbo.call_with_record(prompt, response)\n",
    "    tru_wrapped_relevance_with_cot_turbo.call_with_record(prompt, response)\n",
    "    tru_wrapped_relevance_gpt4.call_with_record(prompt, response)\n",
    "    tru_wrapped_relevance_with_cot_gpt4.call_with_record(prompt, response)\n",
    "    tru_wrapped_relevance_commandnightly.call_with_record(prompt, response)\n",
    "    tru_wrapped_relevance_claude1.call_with_record(prompt, response)\n",
    "    tru_wrapped_relevance_claude2.call_with_record(prompt, response)\n",
    "    tru_wrapped_relevance_llama2.call_with_record(prompt, response)"
   ]
  },
  {
   "cell_type": "code",
   "execution_count": 7,
   "metadata": {},
   "outputs": [
    {
     "data": {
      "text/html": [
       "<div>\n",
       "<style scoped>\n",
       "    .dataframe tbody tr th:only-of-type {\n",
       "        vertical-align: middle;\n",
       "    }\n",
       "\n",
       "    .dataframe tbody tr th {\n",
       "        vertical-align: top;\n",
       "    }\n",
       "\n",
       "    .dataframe thead th {\n",
       "        text-align: right;\n",
       "    }\n",
       "</style>\n",
       "<table border=\"1\" class=\"dataframe\">\n",
       "  <thead>\n",
       "    <tr style=\"text-align: right;\">\n",
       "      <th></th>\n",
       "      <th>Context Relevance Smoke Test</th>\n",
       "      <th>latency</th>\n",
       "      <th>total_cost</th>\n",
       "    </tr>\n",
       "    <tr>\n",
       "      <th>app_id</th>\n",
       "      <th></th>\n",
       "      <th></th>\n",
       "      <th></th>\n",
       "    </tr>\n",
       "  </thead>\n",
       "  <tbody>\n",
       "    <tr>\n",
       "      <th>context relevance gpt-3.5-turbo</th>\n",
       "      <td>0.800000</td>\n",
       "      <td>0.066667</td>\n",
       "      <td>0.000762</td>\n",
       "    </tr>\n",
       "    <tr>\n",
       "      <th>context relevance gpt-4</th>\n",
       "      <td>0.786667</td>\n",
       "      <td>0.066667</td>\n",
       "      <td>0.015268</td>\n",
       "    </tr>\n",
       "    <tr>\n",
       "      <th>context relevance with cot reasoning gpt-4</th>\n",
       "      <td>0.786667</td>\n",
       "      <td>0.066667</td>\n",
       "      <td>0.019420</td>\n",
       "    </tr>\n",
       "    <tr>\n",
       "      <th>context relevance Claude 1</th>\n",
       "      <td>0.773333</td>\n",
       "      <td>0.066667</td>\n",
       "      <td>0.000000</td>\n",
       "    </tr>\n",
       "    <tr>\n",
       "      <th>context relevance with cot reasoning gpt-3.5-turbo</th>\n",
       "      <td>0.726667</td>\n",
       "      <td>0.066667</td>\n",
       "      <td>0.000914</td>\n",
       "    </tr>\n",
       "    <tr>\n",
       "      <th>context relevance Command-Nightly</th>\n",
       "      <td>0.673333</td>\n",
       "      <td>0.066667</td>\n",
       "      <td>0.000000</td>\n",
       "    </tr>\n",
       "    <tr>\n",
       "      <th>context relevance Claude 2</th>\n",
       "      <td>0.566667</td>\n",
       "      <td>0.066667</td>\n",
       "      <td>0.000000</td>\n",
       "    </tr>\n",
       "    <tr>\n",
       "      <th>context relevance Llama-2-13b</th>\n",
       "      <td>0.506667</td>\n",
       "      <td>0.066667</td>\n",
       "      <td>0.000000</td>\n",
       "    </tr>\n",
       "  </tbody>\n",
       "</table>\n",
       "</div>"
      ],
      "text/plain": [
       "                                                    Context Relevance Smoke Test  \\\n",
       "app_id                                                                             \n",
       "context relevance gpt-3.5-turbo                                         0.800000   \n",
       "context relevance gpt-4                                                 0.786667   \n",
       "context relevance with cot reasoning gpt-4                              0.786667   \n",
       "context relevance Claude 1                                              0.773333   \n",
       "context relevance with cot reasoning gpt-3.5-turbo                      0.726667   \n",
       "context relevance Command-Nightly                                       0.673333   \n",
       "context relevance Claude 2                                              0.566667   \n",
       "context relevance Llama-2-13b                                           0.506667   \n",
       "\n",
       "                                                     latency  total_cost  \n",
       "app_id                                                                    \n",
       "context relevance gpt-3.5-turbo                     0.066667    0.000762  \n",
       "context relevance gpt-4                             0.066667    0.015268  \n",
       "context relevance with cot reasoning gpt-4          0.066667    0.019420  \n",
       "context relevance Claude 1                          0.066667    0.000000  \n",
       "context relevance with cot reasoning gpt-3.5-turbo  0.066667    0.000914  \n",
       "context relevance Command-Nightly                   0.066667    0.000000  \n",
       "context relevance Claude 2                          0.066667    0.000000  \n",
       "context relevance Llama-2-13b                       0.066667    0.000000  "
      ]
     },
     "execution_count": 7,
     "metadata": {},
     "output_type": "execute_result"
    }
   ],
   "source": [
    "Tru().get_leaderboard(app_ids=[])"
   ]
  }
 ],
 "metadata": {
  "kernelspec": {
   "display_name": "Python 3.11.4 ('agents')",
   "language": "python",
   "name": "python3"
  },
  "language_info": {
   "codemirror_mode": {
    "name": "ipython",
    "version": 3
   },
   "file_extension": ".py",
   "mimetype": "text/x-python",
   "name": "python",
   "nbconvert_exporter": "python",
   "pygments_lexer": "ipython3",
   "version": "3.11.5"
  },
  "orig_nbformat": 4,
  "vscode": {
   "interpreter": {
    "hash": "7d153714b979d5e6d08dd8ec90712dd93bff2c9b6c1f0c118169738af3430cd4"
   }
  }
 },
 "nbformat": 4,
 "nbformat_minor": 2
}
