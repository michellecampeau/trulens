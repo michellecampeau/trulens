{
 "cells": [
  {
   "cell_type": "markdown",
   "metadata": {},
   "source": [
    "# 📓 Context Relevance Benchmarking: ranking is all you need.\n",
    "\n",
    "The numerical scoring scheme adopted by TruLens’ feedback functions is intuitive for generating aggregated results from eval runs that are easy to interpret and visualize across different applications of interest. However, it begs the question how trustworthy these scores actually are, given they are at their core next-token-prediction-style generation from meticulously designed prompts.  Consequently, these feedback functions face typical large language model (LLM) challenges in rigorous production environments, including prompt sensitivity and non-determinism, especially when incorporating Mixture-of-Experts and model-as-a-service solutions like those from OpenAI. \n",
    "\n",
    "Another frequent inquiry from the community concerns the intrinsic semantic significance, or lack thereof, of feedback scores—for example, how one would interpret and instrument with a score of 0.9 when assessing context relevance in a RAG application or whether a harmfulness score of 0.7 from GPT-3.5 equates to the same from Llama-2-7b.\n",
    " \n",
    "For simpler meta-evaluation tasks, when human numerical scores are available in the benchmark datasets, such as SummEval, it’s a lot more straightforward to evaluate feedback functions as long as we can define reasonable correlation between the task of the feedback function and the ones available in the benchmarks. Check out our preliminary work on evaluating our own groundedness feedback functions: https://www.trulens.org/trulens_eval/groundedness_smoke_tests/#groundedness-evaluations and our previous blog, where the groundedness metric in the context of RAG can be viewed as equivalent to the consistency metric defined in the SummEval benchmark. In those cases, calculating MAE between our feedback scores and the golden set’s human scores can readily provide insights on how well the groundedness LLM-based feedback functions are aligned with human preferences. \n",
    "\n",
    "Yet, acquiring high-quality, numerically scored datasets is challenging and costly, a sentiment echoed across institutions and companies working on RLFH dataset annotation.\n",
    "\n",
    "Observing that many [information retrieval (IR) benchmarks](https://huggingface.co/datasets/ms_marco/viewer/v2.1) use binary labels,  we propose to frame the problem of evaluating LLM-based feedback functions (meta-evaluation) as evaluating a recommender system. In essence, we argue the relative importance or ranking based on the score assignments is all you need to achieve meta-evaluation against human golden sets. The intuition is that it is a sufficient proxy to trustworthiness if feedback functions demonstrate discriminative capabilities that reliably and consistently assign items, be it context chunks or generated responses, with weights and ordering closely mirroring human preferences. \n",
    "\n",
    " In this following section, we illustrate how we conduct meta-evaluation experiments on one of Trulens most widely used feedback functions: `context relevance` and share how well they are aligned with human preferences in practice. "
   ]
  },
  {
   "cell_type": "code",
   "execution_count": 9,
   "metadata": {},
   "outputs": [
    {
     "name": "stdout",
     "output_type": "stream",
     "text": [
      "Note: you may need to restart the kernel to use updated packages.\n"
     ]
    }
   ],
   "source": [
    "# pip install -q scikit-learn litellm trulens_eval"
   ]
  },
  {
   "cell_type": "code",
   "execution_count": 1,
   "metadata": {},
   "outputs": [
    {
     "name": "stdout",
     "output_type": "stream",
     "text": [
      "🦑 Tru initialized with db url sqlite:///default.sqlite .\n",
      "🛑 Secret keys may be written to the database. See the `database_redact_keys` option of Tru` to prevent this.\n"
     ]
    }
   ],
   "source": [
    "# Import groundedness feedback function\n",
    "from trulens_eval import Tru\n",
    "from test_cases import generate_ms_marco_context_relevance_benchmark\n",
    "from benchmark_frameworks.eval_as_recommendation import score_passages, compute_ndcg, compute_ece, recall_at_k, precision_at_k\n",
    "Tru().reset_database()\n",
    "\n",
    "benchmark_data = []\n",
    "for i in range(1, 6):\n",
    "    dataset_path = f\"./datasets/ms_marco/ms_marco_train_v2.1_{i}.json\"\n",
    "    benchmark_data.extend(list(generate_ms_marco_context_relevance_benchmark(dataset_path)))\n"
   ]
  },
  {
   "cell_type": "code",
   "execution_count": 2,
   "metadata": {},
   "outputs": [],
   "source": [
    "import os\n",
    "os.environ[\"OPENAI_API_KEY\"] = \"...\"\n",
    "os.environ[\"ANTHROPIC_API_KEY\"] = \"...\""
   ]
  },
  {
   "cell_type": "code",
   "execution_count": 18,
   "metadata": {},
   "outputs": [
    {
     "name": "stdout",
     "output_type": "stream",
     "text": [
      "50\n"
     ]
    }
   ],
   "source": [
    "import pandas as pd\n",
    "import numpy as np\n",
    "df = pd.DataFrame(benchmark_data)\n",
    "df = df.iloc[:500]\n",
    "print(len(df.groupby(\"query_id\").count()))"
   ]
  },
  {
   "cell_type": "code",
   "execution_count": 19,
   "metadata": {},
   "outputs": [
    {
     "data": {
      "text/html": [
       "<div>\n",
       "<style scoped>\n",
       "    .dataframe tbody tr th:only-of-type {\n",
       "        vertical-align: middle;\n",
       "    }\n",
       "\n",
       "    .dataframe tbody tr th {\n",
       "        vertical-align: top;\n",
       "    }\n",
       "\n",
       "    .dataframe thead th {\n",
       "        text-align: right;\n",
       "    }\n",
       "</style>\n",
       "<table border=\"1\" class=\"dataframe\">\n",
       "  <thead>\n",
       "    <tr style=\"text-align: right;\">\n",
       "      <th></th>\n",
       "      <th>query_id</th>\n",
       "      <th>query</th>\n",
       "      <th>passage</th>\n",
       "      <th>is_selected</th>\n",
       "      <th>relevant_idx</th>\n",
       "    </tr>\n",
       "  </thead>\n",
       "  <tbody>\n",
       "    <tr>\n",
       "      <th>0</th>\n",
       "      <td>1185869</td>\n",
       "      <td>)what was the immediate impact of the success ...</td>\n",
       "      <td>The presence of communication amid scientific ...</td>\n",
       "      <td>1</td>\n",
       "      <td>0</td>\n",
       "    </tr>\n",
       "    <tr>\n",
       "      <th>1</th>\n",
       "      <td>1185869</td>\n",
       "      <td>)what was the immediate impact of the success ...</td>\n",
       "      <td>The Manhattan Project and its atomic bomb help...</td>\n",
       "      <td>0</td>\n",
       "      <td>0</td>\n",
       "    </tr>\n",
       "    <tr>\n",
       "      <th>2</th>\n",
       "      <td>1185869</td>\n",
       "      <td>)what was the immediate impact of the success ...</td>\n",
       "      <td>Essay on The Manhattan Project - The Manhattan...</td>\n",
       "      <td>0</td>\n",
       "      <td>0</td>\n",
       "    </tr>\n",
       "    <tr>\n",
       "      <th>3</th>\n",
       "      <td>1185869</td>\n",
       "      <td>)what was the immediate impact of the success ...</td>\n",
       "      <td>The Manhattan Project was the name for a proje...</td>\n",
       "      <td>0</td>\n",
       "      <td>0</td>\n",
       "    </tr>\n",
       "    <tr>\n",
       "      <th>4</th>\n",
       "      <td>1185869</td>\n",
       "      <td>)what was the immediate impact of the success ...</td>\n",
       "      <td>versions of each volume as well as complementa...</td>\n",
       "      <td>0</td>\n",
       "      <td>0</td>\n",
       "    </tr>\n",
       "    <tr>\n",
       "      <th>...</th>\n",
       "      <td>...</td>\n",
       "      <td>...</td>\n",
       "      <td>...</td>\n",
       "      <td>...</td>\n",
       "      <td>...</td>\n",
       "    </tr>\n",
       "    <tr>\n",
       "      <th>490</th>\n",
       "      <td>520776</td>\n",
       "      <td>time change new zealand</td>\n",
       "      <td>On 2 November 1868, New Zealand officially ado...</td>\n",
       "      <td>0</td>\n",
       "      <td>8</td>\n",
       "    </tr>\n",
       "    <tr>\n",
       "      <th>491</th>\n",
       "      <td>520776</td>\n",
       "      <td>time change new zealand</td>\n",
       "      <td>New Zealand Daylight Time (NZDT) is 13 hours a...</td>\n",
       "      <td>0</td>\n",
       "      <td>8</td>\n",
       "    </tr>\n",
       "    <tr>\n",
       "      <th>492</th>\n",
       "      <td>520776</td>\n",
       "      <td>time change new zealand</td>\n",
       "      <td>Country: New Zealand. Lat/Long: 36°51'S / 174°...</td>\n",
       "      <td>0</td>\n",
       "      <td>8</td>\n",
       "    </tr>\n",
       "    <tr>\n",
       "      <th>493</th>\n",
       "      <td>520776</td>\n",
       "      <td>time change new zealand</td>\n",
       "      <td>Time in New Zealand. New Zealand has two time ...</td>\n",
       "      <td>0</td>\n",
       "      <td>8</td>\n",
       "    </tr>\n",
       "    <tr>\n",
       "      <th>494</th>\n",
       "      <td>520776</td>\n",
       "      <td>time change new zealand</td>\n",
       "      <td>Main World Clock Extended World Clock Personal...</td>\n",
       "      <td>0</td>\n",
       "      <td>8</td>\n",
       "    </tr>\n",
       "  </tbody>\n",
       "</table>\n",
       "<p>250 rows × 5 columns</p>\n",
       "</div>"
      ],
      "text/plain": [
       "     query_id                                              query  \\\n",
       "0     1185869  )what was the immediate impact of the success ...   \n",
       "1     1185869  )what was the immediate impact of the success ...   \n",
       "2     1185869  )what was the immediate impact of the success ...   \n",
       "3     1185869  )what was the immediate impact of the success ...   \n",
       "4     1185869  )what was the immediate impact of the success ...   \n",
       "..        ...                                                ...   \n",
       "490    520776                            time change new zealand   \n",
       "491    520776                            time change new zealand   \n",
       "492    520776                            time change new zealand   \n",
       "493    520776                            time change new zealand   \n",
       "494    520776                            time change new zealand   \n",
       "\n",
       "                                               passage  is_selected  \\\n",
       "0    The presence of communication amid scientific ...            1   \n",
       "1    The Manhattan Project and its atomic bomb help...            0   \n",
       "2    Essay on The Manhattan Project - The Manhattan...            0   \n",
       "3    The Manhattan Project was the name for a proje...            0   \n",
       "4    versions of each volume as well as complementa...            0   \n",
       "..                                                 ...          ...   \n",
       "490  On 2 November 1868, New Zealand officially ado...            0   \n",
       "491  New Zealand Daylight Time (NZDT) is 13 hours a...            0   \n",
       "492  Country: New Zealand. Lat/Long: 36°51'S / 174°...            0   \n",
       "493  Time in New Zealand. New Zealand has two time ...            0   \n",
       "494  Main World Clock Extended World Clock Personal...            0   \n",
       "\n",
       "     relevant_idx  \n",
       "0               0  \n",
       "1               0  \n",
       "2               0  \n",
       "3               0  \n",
       "4               0  \n",
       "..            ...  \n",
       "490             8  \n",
       "491             8  \n",
       "492             8  \n",
       "493             8  \n",
       "494             8  \n",
       "\n",
       "[250 rows x 5 columns]"
      ]
     },
     "execution_count": 19,
     "metadata": {},
     "output_type": "execute_result"
    }
   ],
   "source": [
    "df.groupby(\"query_id\").head()"
   ]
  },
  {
   "cell_type": "markdown",
   "metadata": {},
   "source": [
    "#### Define feedback functions for contexnt relevance to be evaluated"
   ]
  },
  {
   "cell_type": "code",
   "execution_count": 20,
   "metadata": {},
   "outputs": [],
   "source": [
    "from trulens_eval.feedback import OpenAI, LiteLLM\n",
    "\n",
    "\n",
    "# GPT 3.5\n",
    "gpt3_turbo = OpenAI(model_engine=\"gpt-3.5-turbo\")\n",
    "def wrapped_relevance_turbo(input, output, temperature=0.0):\n",
    "    return gpt3_turbo.context_relevance(input, output, temperature)\n",
    "\n",
    "gpt4 = OpenAI(model_engine=\"gpt-4-1106-preview\")\n",
    "def wrapped_relevance_gpt4(input, output, temperature=0.0):\n",
    "    return gpt4.context_relevance(input, output, temperature)\n",
    "\n",
    "# # GPT 4 turbo latest\n",
    "gpt4_latest = OpenAI(model_engine=\"gpt-4-0125-preview\")\n",
    "def wrapped_relevance_gpt4_latest(input, output, temperature=0.0):\n",
    "    return gpt4_latest.context_relevance(input, output, temperature)\n",
    "\n",
    "\n",
    "# Anthropic\n",
    "\n",
    "claude_2 = LiteLLM(model_engine=\"claude-2\")\n",
    "def wrapped_relevance_claude2(input, output, temperature=0.0):\n",
    "    return claude_2.context_relevance(input, output, temperature)\n",
    "\n",
    "claude_2_1 = LiteLLM(model_engine=\"claude-2.1\") \n",
    "def wrapped_relevance_claude21(input, output, temperature=0.0):\n",
    "    return claude_2_1.context_relevance(input, output, temperature)\n",
    "\n",
    "\n",
    "# Define a list of your feedback functions\n",
    "feedback_functions = {\n",
    "    'GPT-3.5-Turbo': wrapped_relevance_turbo,\n",
    "    'GPT-4-Turbo': wrapped_relevance_gpt4,\n",
    "    'GPT-4-Turbo-latest': wrapped_relevance_gpt4_latest,\n",
    "    'Claude-2': wrapped_relevance_claude2,\n",
    "    'Claude-2.1': wrapped_relevance_claude21,\n",
    "}\n",
    "\n",
    "backoffs_by_functions = {\n",
    "    'GPT-3.5-Turbo': 0.5,\n",
    "    'GPT-4-Turbo': 0.5,\n",
    "    'GPT-4-Turbo-latest': 0.5,\n",
    "    'Claude-2': 1,\n",
    "    'Claude-2.1': 1,\n",
    "}"
   ]
  },
  {
   "cell_type": "code",
   "execution_count": null,
   "metadata": {},
   "outputs": [],
   "source": [
    "\n",
    "# Running the benchmark\n",
    "results = []\n",
    "\n",
    "K = 5 # for precision@K and recall@K\n",
    "sample_size = 1 # sampling of size n is performed for estimating log probs (conditional probs) generated by the LLMs\n",
    "for name, func in feedback_functions.items():\n",
    "    try:\n",
    "        scores, groundtruths = score_passages(df, name, func, backoffs_by_functions[name] if name in backoffs_by_functions else 0.5, n=1)\n",
    "        \n",
    "        df_score_groundtruth_pairs = pd.DataFrame({'scores': scores, 'groundtruth (human-preferences of relevancy)': groundtruths})\n",
    "        df_score_groundtruth_pairs.to_csv(f\"./results/{name}_score_groundtruth_pairs.csv\")\n",
    "        ndcg_value = compute_ndcg(scores, groundtruths)\n",
    "        ece_value = compute_ece(scores, groundtruths)\n",
    "        precision_k = np.mean([precision_at_k(sc, tr, 1) for sc, tr in zip(scores, groundtruths)])\n",
    "        recall_k = np.mean([recall_at_k(sc, tr, K) for sc, tr in zip(scores, groundtruths)])\n",
    "        results.append((name, ndcg_value, ece_value, recall_k, precision_k))\n",
    "        print(f\"Finished running feedback function name {name}\")\n",
    "    \n",
    "        print(\"Saving results...\")\n",
    "        tmp_results_df = pd.DataFrame(results, columns=['Model', 'nDCG', 'ECE', f'Recall@{K}', 'Precision@1'])\n",
    "        print(tmp_results_df)\n",
    "        tmp_results_df.to_csv(\"./results/tmp_context_relevance_benchmark.csv\")\n",
    "        \n",
    "    except Exception as e:\n",
    "        print(f\"Failed to run benchmark for feedback function name {name} due to {e}\")\n",
    "# Convert results to DataFrame for display\n",
    "results_df = pd.DataFrame(results, columns=['Model', 'nDCG', 'ECE', f'Recall@{K}', 'Precision@1'])\n",
    "results_df.to_csv((\"./results/all_context_relevance_benchmark.csv\"))"
   ]
  },
  {
   "cell_type": "markdown",
   "metadata": {},
   "source": [
    "### Visualization"
   ]
  },
  {
   "cell_type": "code",
   "execution_count": 22,
   "metadata": {},
   "outputs": [
    {
     "data": {
      "image/png": "[encoded data removed]",
      "text/plain": [
       "<Figure size 1200x1000 with 2 Axes>"
      ]
     },
     "metadata": {},
     "output_type": "display_data"
    }
   ],
   "source": [
    "\n",
    "import matplotlib.pyplot as plt\n",
    "\n",
    "\n",
    "# Make sure results_df is defined and contains the necessary columns\n",
    "# Also, ensure that K is defined\n",
    "\n",
    "plt.figure(figsize=(12, 10))\n",
    "\n",
    "# Graph for nDCG, Recall@K, and Precision@K\n",
    "plt.subplot(2, 1, 1)  # First subplot\n",
    "ax1 = results_df.plot(x='Model', y=['nDCG', f'Recall@{K}', 'Precision@1'], kind='bar', ax=plt.gca())\n",
    "plt.title('Feedback Function Performance (Higher is Better)')\n",
    "plt.ylabel('Score')\n",
    "plt.xticks(rotation=45)\n",
    "plt.legend(loc='upper left')\n",
    "\n",
    "# Graph for ECE\n",
    "plt.subplot(2, 1, 2)  # Second subplot\n",
    "ax2 = results_df.plot(x='Model', y=['ECE'], kind='bar', ax=plt.gca(), color='orange')\n",
    "plt.title('Feedback Function Calibration (Lower is Better)')\n",
    "plt.ylabel('ECE')\n",
    "plt.xticks(rotation=45)\n",
    "\n",
    "plt.tight_layout()\n",
    "plt.show()\n",
    "\n",
    "\n"
   ]
  },
  {
   "cell_type": "code",
   "execution_count": 23,
   "metadata": {},
   "outputs": [
    {
     "data": {
      "text/html": [
       "<div>\n",
       "<style scoped>\n",
       "    .dataframe tbody tr th:only-of-type {\n",
       "        vertical-align: middle;\n",
       "    }\n",
       "\n",
       "    .dataframe tbody tr th {\n",
       "        vertical-align: top;\n",
       "    }\n",
       "\n",
       "    .dataframe thead th {\n",
       "        text-align: right;\n",
       "    }\n",
       "</style>\n",
       "<table border=\"1\" class=\"dataframe\">\n",
       "  <thead>\n",
       "    <tr style=\"text-align: right;\">\n",
       "      <th></th>\n",
       "      <th>Model</th>\n",
       "      <th>nDCG</th>\n",
       "      <th>ECE</th>\n",
       "      <th>Recall@5</th>\n",
       "      <th>Precision@1</th>\n",
       "    </tr>\n",
       "  </thead>\n",
       "  <tbody>\n",
       "    <tr>\n",
       "      <th>0</th>\n",
       "      <td>GPT-3.5-Turbo</td>\n",
       "      <td>0.567230</td>\n",
       "      <td>0.5474</td>\n",
       "      <td>0.94</td>\n",
       "      <td>0.218365</td>\n",
       "    </tr>\n",
       "    <tr>\n",
       "      <th>1</th>\n",
       "      <td>GPT-4-Turbo</td>\n",
       "      <td>0.664696</td>\n",
       "      <td>0.4430</td>\n",
       "      <td>0.94</td>\n",
       "      <td>0.325833</td>\n",
       "    </tr>\n",
       "    <tr>\n",
       "      <th>2</th>\n",
       "      <td>GPT-4-Turbo-latest</td>\n",
       "      <td>0.655713</td>\n",
       "      <td>0.4596</td>\n",
       "      <td>0.94</td>\n",
       "      <td>0.312167</td>\n",
       "    </tr>\n",
       "    <tr>\n",
       "      <th>3</th>\n",
       "      <td>Claude-2</td>\n",
       "      <td>0.599110</td>\n",
       "      <td>0.6690</td>\n",
       "      <td>0.90</td>\n",
       "      <td>0.268214</td>\n",
       "    </tr>\n",
       "  </tbody>\n",
       "</table>\n",
       "</div>"
      ],
      "text/plain": [
       "                Model      nDCG     ECE  Recall@5  Precision@1\n",
       "0       GPT-3.5-Turbo  0.567230  0.5474      0.94     0.218365\n",
       "1         GPT-4-Turbo  0.664696  0.4430      0.94     0.325833\n",
       "2  GPT-4-Turbo-latest  0.655713  0.4596      0.94     0.312167\n",
       "3            Claude-2  0.599110  0.6690      0.90     0.268214"
      ]
     },
     "execution_count": 23,
     "metadata": {},
     "output_type": "execute_result"
    }
   ],
   "source": [
    "results_df"
   ]
  },
  {
   "cell_type": "code",
   "execution_count": null,
   "metadata": {},
   "outputs": [],
   "source": []
  }
 ],
 "metadata": {
  "kernelspec": {
   "display_name": "trulens",
   "language": "python",
   "name": "python3"
  },
  "language_info": {
   "codemirror_mode": {
    "name": "ipython",
    "version": 3
   },
   "file_extension": ".py",
   "mimetype": "text/x-python",
   "name": "python",
   "nbconvert_exporter": "python",
   "pygments_lexer": "ipython3",
   "version": "3.11.5"
  }
 },
 "nbformat": 4,
 "nbformat_minor": 2
}
