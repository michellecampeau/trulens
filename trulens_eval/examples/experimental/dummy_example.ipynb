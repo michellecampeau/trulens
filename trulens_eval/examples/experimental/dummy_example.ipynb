{
 "cells": [
  {
   "cell_type": "markdown",
   "metadata": {},
   "source": [
    "# Dummy Provider Example and High Volume Robustness Testing\n",
    "\n",
    "This notebook has two purposes: \n",
    "\n",
    "- Demostrate the dummy feedback function provider which behaves like the\n",
    "  huggingface provider except it does not actually perform any network calls and\n",
    "  just produces constant results. It can be used to prototype feedback function\n",
    "  wiring for your apps before invoking potentially slow (to run/to load)\n",
    "  feedback functions.\n",
    "\n",
    "- Test out high-volume record and feedback computation. To this end, we use the\n",
    "  custom app which is dummy in a sense that it produces useless answers without\n",
    "  making any API calls but otherwise behaves similarly to real apps, and the\n",
    "  dummy feedback function provider."
   ]
  },
  {
   "cell_type": "code",
   "execution_count": 1,
   "metadata": {},
   "outputs": [],
   "source": [
    "%load_ext autoreload\n",
    "%autoreload 2\n",
    "from pathlib import Path\n",
    "import sys\n",
    "\n",
    "# If running from github repo, can use this:\n",
    "sys.path.append(str(Path().cwd().parent.parent.resolve()))"
   ]
  },
  {
   "cell_type": "code",
   "execution_count": 2,
   "metadata": {},
   "outputs": [
    {
     "name": "stdout",
     "output_type": "stream",
     "text": [
      "🦑 Tru initialized with db url sqlite:///default.sqlite .\n",
      "🛑 Secret keys may be written to the database. See the `database_redact_keys` option of `Tru` to prevent this.\n",
      "Force stopping dashboard ...\n",
      "Starting dashboard ...\n",
      "Config file already exists. Skipping writing process.\n",
      "Credentials file already exists. Skipping writing process.\n"
     ]
    },
    {
     "data": {
      "application/vnd.jupyter.widget-view+json": {
       "model_id": "16b5ab5c60f347e5906f5559afef54dd",
       "version_major": 2,
       "version_minor": 0
      },
      "text/plain": [
       "Accordion(children=(VBox(children=(VBox(children=(Label(value='STDOUT'), Output())), VBox(children=(Label(valu…"
      ]
     },
     "metadata": {},
     "output_type": "display_data"
    },
    {
     "name": "stdout",
     "output_type": "stream",
     "text": [
      "Dashboard started at http://172.17.97.146:8501 .\n"
     ]
    },
    {
     "data": {
      "text/plain": [
       "<Popen: returncode: None args: ['streamlit', 'run', '--server.headless=True'...>"
      ]
     },
     "execution_count": 2,
     "metadata": {},
     "output_type": "execute_result"
    }
   ],
   "source": [
    "from concurrent.futures import as_completed\n",
    "from time import sleep\n",
    "\n",
    "from examples.expositional.end2end_apps.custom_app.custom_app import CustomApp\n",
    "from tqdm.auto import tqdm\n",
    "\n",
    "from trulens_eval import Feedback\n",
    "from trulens_eval import Tru\n",
    "from trulens_eval.feedback.provider.hugs import Dummy\n",
    "from trulens_eval.schema.feedback import FeedbackMode\n",
    "from trulens_eval.tru_custom_app import TruCustomApp\n",
    "from trulens_eval.utils.threading import TP\n",
    "\n",
    "tp = TP()\n",
    "\n",
    "d_error = Dummy(\n",
    "    loading_prob=0.0,\n",
    "    freeze_prob=0.0, # we expect requests to have their own timeouts so freeze should never happen\n",
    "    error_prob=1.0,\n",
    "    overloaded_prob=0.0,\n",
    "    rpm=1000,\n",
    "    alloc = 0, # how much fake data to allocate during requests\n",
    "    delay = 10.0\n",
    ")\n",
    "\n",
    "d_noerror = Dummy(\n",
    "    loading_prob=0.0,\n",
    "    freeze_prob=0.0, # we expect requests to have their own timeouts so freeze should never happen\n",
    "    error_prob=0.0,\n",
    "    overloaded_prob=0.0,\n",
    "    rpm=1000,\n",
    "    alloc = 0, # how much fake data to allocate during requests\n",
    "    delay = 10.0\n",
    ")\n",
    "\n",
    "tru = Tru()\n",
    "\n",
    "#tru.reset_database()\n",
    "\n",
    "tru.start_dashboard(\n",
    "    force = True,\n",
    "    _dev=Path().cwd().parent.parent.resolve()\n",
    ")"
   ]
  },
  {
   "cell_type": "code",
   "execution_count": 3,
   "metadata": {},
   "outputs": [
    {
     "name": "stdout",
     "output_type": "stream",
     "text": [
      "✅ In language_match, input text1 will be set to __record__.main_input or `Select.RecordInput` .\n",
      "✅ In language_match, input text2 will be set to __record__.main_output or `Select.RecordOutput` .\n",
      "✅ In output sentiment, input text will be set to __record__.main_output or `Select.RecordOutput` .\n"
     ]
    },
    {
     "name": "stderr",
     "output_type": "stream",
     "text": [
      "Exception in thread Thread-6 (_future_target_wrapper):\n",
      "Traceback (most recent call last):\n",
      "  File \"/opt/miniconda3/envs/py312/lib/python3.12/threading.py\", line 1052, in _bootstrap_inner\n",
      "    self.run()\n",
      "  File \"/opt/miniconda3/envs/py312/lib/python3.12/site-packages/ipykernel/ipkernel.py\", line 766, in run_closure\n",
      "    _threading_Thread_run(self)\n",
      "  File \"/opt/miniconda3/envs/py312/lib/python3.12/threading.py\", line 989, in run\n",
      "    self._target(*self._args, **self._kwargs)\n",
      "  File \"/Users/pmardziel/repos/truera/trulens/trulens_eval/trulens_eval/utils/python.py\", line 475, in _future_target_wrapper\n",
      "    return func(*args, **kwargs)\n",
      "           ^^^^^^^^^^^^^^^^^^^^^\n",
      "  File \"/Users/pmardziel/repos/truera/trulens/trulens_eval/trulens_eval/app.py\", line 614, in _manage_pending_feedback_results\n",
      "    self.records_with_pending_feedback_results.remove(record)\n",
      "  File \"/Users/pmardziel/repos/truera/trulens/trulens_eval/trulens_eval/utils/containers.py\", line 73, in remove\n",
      "    self.content.remove(item)\n",
      "KeyError: Record(record_id='record_hash_7154900aaf3c9bcb000c04edca79df33', app_id='customapp', cost=Cost(n_requests=0, n_successful_requests=0, n_classes=0, n_tokens=0, n_stream_chunks=0, n_prompt_tokens=0, n_completion_tokens=0, cost=0.0), perf=Perf(start_time=datetime.datetime(2024, 6, 27, 17, 2, 0, 579412), end_time=datetime.datetime(2024, 6, 27, 17, 2, 0, 779123)), ts=datetime.datetime(2024, 6, 27, 17, 2, 0, 779200), tags='-', meta=None, main_input='hello there', main_output=\"The answer to hello there is probably herp dessecorp .gnihtemos gniod m'I dneterp ot setyb 65 detacolla I :knuhc tnaveleR,dessecorp hello there :knuhc tnaveleR,dessecorp EREHT OLLEH :knuhc tnaveleR derp and 56 bytes or something ...\", main_error=None, calls=[RecordAppCall(call_id='a7f3acaa-e590-44f3-a561-dd4c56216f3f', stack=[RecordAppCallMethod(path=Lens().app, method=Method(obj=Obj(cls=examples.expositional.end2end_apps.custom_app.custom_app.CustomApp, id=13520091424, init_bindings=None), name='respond_to_query')), RecordAppCallMethod(path=Lens().app, method=Method(obj=Obj(cls=examples.expositional.end2end_apps.custom_app.custom_app.CustomApp, id=13520091424, init_bindings=None), name='retrieve_chunks')), RecordAppCallMethod(path=Lens().app.retriever, method=Method(obj=Obj(cls=examples.expositional.end2end_apps.custom_app.custom_retriever.CustomRetriever, id=13520090272, init_bindings=None), name='retrieve_chunks'))], args={'data': 'hello there'}, rets=['Relevant chunk: HELLO THERE', 'Relevant chunk: ereht olleh', \"Relevant chunk: I allocated 56 bytes to pretend I'm doing something.\"], error=None, perf=Perf(start_time=datetime.datetime(2024, 6, 27, 17, 2, 0, 644995), end_time=datetime.datetime(2024, 6, 27, 17, 2, 0, 651674)), pid=56677, tid=5956724), RecordAppCall(call_id='ea74911c-47ad-402c-82e3-8d3da97e158b', stack=[RecordAppCallMethod(path=Lens().app, method=Method(obj=Obj(cls=examples.expositional.end2end_apps.custom_app.custom_app.CustomApp, id=13520091424, init_bindings=None), name='respond_to_query')), RecordAppCallMethod(path=Lens().app, method=Method(obj=Obj(cls=examples.expositional.end2end_apps.custom_app.custom_app.CustomApp, id=13520091424, init_bindings=None), name='retrieve_chunks'))], args={'data': 'hello there'}, rets=['Relevant chunk: HELLO THERE', 'Relevant chunk: ereht olleh', \"Relevant chunk: I allocated 56 bytes to pretend I'm doing something.\"], error=None, perf=Perf(start_time=datetime.datetime(2024, 6, 27, 17, 2, 0, 618582), end_time=datetime.datetime(2024, 6, 27, 17, 2, 0, 651720)), pid=56677, tid=5956724), RecordAppCall(call_id='9eea511b-1647-4d93-97dd-bd4d153f39cb', stack=[RecordAppCallMethod(path=Lens().app, method=Method(obj=Obj(cls=examples.expositional.end2end_apps.custom_app.custom_app.CustomApp, id=13520091424, init_bindings=None), name='respond_to_query')), RecordAppCallMethod(path=Lens().app.memory, method=Method(obj=Obj(cls=examples.expositional.end2end_apps.custom_app.custom_memory.CustomMemory, id=13520092336, init_bindings=None), name='remember'))], args={'data': 'hello there'}, rets=None, error=None, perf=Perf(start_time=datetime.datetime(2024, 6, 27, 17, 2, 0, 691218), end_time=datetime.datetime(2024, 6, 27, 17, 2, 0, 697436)), pid=56677, tid=5956724), RecordAppCall(call_id='14213ee1-b2d7-43ac-901e-ff862d1eb182', stack=[RecordAppCallMethod(path=Lens().app, method=Method(obj=Obj(cls=examples.expositional.end2end_apps.custom_app.custom_app.CustomApp, id=13520091424, init_bindings=None), name='respond_to_query')), RecordAppCallMethod(path=Lens().app.llm, method=Method(obj=Obj(cls=examples.expositional.end2end_apps.custom_app.custom_llm.CustomLLM, id=13520089936, init_bindings=None), name='generate'))], args={'prompt': \"Relevant chunk: HELLO THERE processed,Relevant chunk: ereht olleh processed,Relevant chunk: I allocated 56 bytes to pretend I'm doing something. processed\"}, rets=\"herp dessecorp .gnihtemos gniod m'I dneterp ot setyb 65 detacolla I :knuhc tnaveleR,dessecorp hello there :knuhc tnaveleR,dessecorp EREHT OLLEH :knuhc tnaveleR derp and 56 bytes\", error=None, perf=Perf(start_time=datetime.datetime(2024, 6, 27, 17, 2, 0, 718604), end_time=datetime.datetime(2024, 6, 27, 17, 2, 0, 725227)), pid=56677, tid=5956724), RecordAppCall(call_id='5500fd17-5fec-4cfc-9976-b7949349ae11', stack=[RecordAppCallMethod(path=Lens().app, method=Method(obj=Obj(cls=examples.expositional.end2end_apps.custom_app.custom_app.CustomApp, id=13520091424, init_bindings=None), name='respond_to_query')), RecordAppCallMethod(path=Lens().app.template, method=Method(obj=Obj(cls=examples.expositional.end2end_apps.custom_app.custom_app.CustomTemplate, id=13520092768, init_bindings=None), name='fill'))], args={'question': 'hello there', 'answer': \"herp dessecorp .gnihtemos gniod m'I dneterp ot setyb 65 detacolla I :knuhc tnaveleR,dessecorp hello there :knuhc tnaveleR,dessecorp EREHT OLLEH :knuhc tnaveleR derp and 56 bytes\"}, rets=\"The answer to hello there is probably herp dessecorp .gnihtemos gniod m'I dneterp ot setyb 65 detacolla I :knuhc tnaveleR,dessecorp hello there :knuhc tnaveleR,dessecorp EREHT OLLEH :knuhc tnaveleR derp and 56 bytes or something ...\", error=None, perf=Perf(start_time=datetime.datetime(2024, 6, 27, 17, 2, 0, 745224), end_time=datetime.datetime(2024, 6, 27, 17, 2, 0, 751950)), pid=56677, tid=5956724), RecordAppCall(call_id='c533e5bc-1821-4c20-96c9-aab704926156', stack=[RecordAppCallMethod(path=Lens().app, method=Method(obj=Obj(cls=examples.expositional.end2end_apps.custom_app.custom_app.CustomApp, id=13520091424, init_bindings=None), name='respond_to_query')), RecordAppCallMethod(path=Lens().app.memory, method=Method(obj=Obj(cls=examples.expositional.end2end_apps.custom_app.custom_memory.CustomMemory, id=13520092336, init_bindings=None), name='remember'))], args={'data': \"The answer to hello there is probably herp dessecorp .gnihtemos gniod m'I dneterp ot setyb 65 detacolla I :knuhc tnaveleR,dessecorp hello there :knuhc tnaveleR,dessecorp EREHT OLLEH :knuhc tnaveleR derp and 56 bytes or something ...\"}, rets=None, error=None, perf=Perf(start_time=datetime.datetime(2024, 6, 27, 17, 2, 0, 772799), end_time=datetime.datetime(2024, 6, 27, 17, 2, 0, 779098)), pid=56677, tid=5956724), RecordAppCall(call_id='2555fd1e-a7ed-4e95-92dd-54b46d5f6863', stack=[RecordAppCallMethod(path=Lens().app, method=Method(obj=Obj(cls=examples.expositional.end2end_apps.custom_app.custom_app.CustomApp, id=13520091424, init_bindings=None), name='respond_to_query'))], args={'input': 'hello there'}, rets=\"The answer to hello there is probably herp dessecorp .gnihtemos gniod m'I dneterp ot setyb 65 detacolla I :knuhc tnaveleR,dessecorp hello there :knuhc tnaveleR,dessecorp EREHT OLLEH :knuhc tnaveleR derp and 56 bytes or something ...\", error=None, perf=Perf(start_time=datetime.datetime(2024, 6, 27, 17, 2, 0, 579412), end_time=datetime.datetime(2024, 6, 27, 17, 2, 0, 779123)), pid=56677, tid=5956724)], feedback_and_future_results=[(FeedbackDefinition(language_match,\n",
      "\tselectors={'text1': Lens().__record__.main_input, 'text2': Lens().__record__.main_output},\n",
      "\tif_exists=None\n",
      "), <Future at 0x16fafdbe0 state=finished returned FeedbackResult>), (FeedbackDefinition(output sentiment,\n",
      "\tselectors={'text': Lens().__record__.main_output},\n",
      "\tif_exists=None\n",
      "), <Future at 0x16fafd820 state=finished returned FeedbackResult>)], feedback_results=[<Future at 0x16fafdbe0 state=finished returned FeedbackResult>, <Future at 0x16fafd820 state=finished returned FeedbackResult>])\n"
     ]
    }
   ],
   "source": [
    "tru.get_records_and_feedback(limit=10)[0]"
   ]
  },
  {
   "cell_type": "code",
   "execution_count": null,
   "metadata": {},
   "outputs": [],
   "source": [
    "f_dummy1 = Feedback(\n",
    "    d_error.language_match\n",
    ").on_input_output()\n",
    "\n",
    "f_dummy2 = Feedback(\n",
    "    d_noerror.positive_sentiment, name=\"output sentiment\"\n",
    ").on_output()\n",
    "\n",
    "# Create custom app:\n",
    "ca = CustomApp(delay=0.0, alloc=0)\n",
    "\n",
    "# Create trulens wrapper:\n",
    "ta = TruCustomApp(\n",
    "    ca,\n",
    "    app_id=\"customapp\",\n",
    "    feedbacks=[f_dummy1, f_dummy2],\n",
    "#    feedback_mode=FeedbackMode.DEFERRED\n",
    ")"
   ]
  },
  {
   "cell_type": "code",
   "execution_count": 4,
   "metadata": {},
   "outputs": [],
   "source": [
    "with ta as recorder:\n",
    "    res = ca.respond_to_query(f\"hello there\")"
   ]
  },
  {
   "cell_type": "code",
   "execution_count": 5,
   "metadata": {},
   "outputs": [
    {
     "name": "stderr",
     "output_type": "stream",
     "text": [
      "Feedback Function exception caught: Traceback (most recent call last):\n",
      "  File \"/Users/pmardziel/repos/truera/trulens/trulens_eval/trulens_eval/feedback/feedback.py\", line 899, in run\n",
      "    result_and_meta, part_cost = mod_base_endpoint.Endpoint.track_all_costs_tally(\n",
      "                                 ^^^^^^^^^^^^^^^^^^^^^^^^^^^^^^^^^^^^^^^^^^^^^^^^^\n",
      "  File \"/Users/pmardziel/repos/truera/trulens/trulens_eval/trulens_eval/feedback/provider/endpoint/base.py\", line 503, in track_all_costs_tally\n",
      "    result, cbs = Endpoint.track_all_costs(\n",
      "                  ^^^^^^^^^^^^^^^^^^^^^^^^^\n",
      "  File \"/Users/pmardziel/repos/truera/trulens/trulens_eval/trulens_eval/feedback/provider/endpoint/base.py\", line 483, in track_all_costs\n",
      "    return Endpoint._track_costs(\n",
      "           ^^^^^^^^^^^^^^^^^^^^^^\n",
      "  File \"/Users/pmardziel/repos/truera/trulens/trulens_eval/trulens_eval/feedback/provider/endpoint/base.py\", line 581, in _track_costs\n",
      "    result: T = __func(*args, **kwargs)\n",
      "                ^^^^^^^^^^^^^^^^^^^^^^^\n",
      "  File \"/Users/pmardziel/repos/truera/trulens/trulens_eval/trulens_eval/feedback/provider/hugs.py\", line 82, in wrapper\n",
      "    return func(*bindings.args, **bindings.kwargs)\n",
      "           ^^^^^^^^^^^^^^^^^^^^^^^^^^^^^^^^^^^^^^^\n",
      "  File \"/Users/pmardziel/repos/truera/trulens/trulens_eval/trulens_eval/feedback/provider/hugs.py\", line 299, in positive_sentiment\n",
      "    return self._positive_sentiment_endpoint(truncated_text)\n",
      "           ^^^^^^^^^^^^^^^^^^^^^^^^^^^^^^^^^^^^^^^^^^^^^^^^^\n",
      "  File \"/Users/pmardziel/repos/truera/trulens/trulens_eval/trulens_eval/feedback/provider/hugs.py\", line 530, in _positive_sentiment_endpoint\n",
      "    hf_response = self.endpoint.post(\n",
      "                  ^^^^^^^^^^^^^^^^^^^\n",
      "  File \"/Users/pmardziel/repos/truera/trulens/trulens_eval/trulens_eval/feedback/provider/endpoint/base.py\", line 853, in post\n",
      "    raise RuntimeError(\"Simulated error happened.\")\n",
      "RuntimeError: Simulated error happened.\n",
      "\n",
      "The above exception was the direct cause of the following exception:\n",
      "\n",
      "Traceback (most recent call last):\n",
      "  File \"/Users/pmardziel/repos/truera/trulens/trulens_eval/trulens_eval/feedback/feedback.py\", line 913, in run\n",
      "    raise RuntimeError(\n",
      "RuntimeError: Evaluation of output sentiment failed on inputs: \n",
      "{'text': 'The answer to hello there is probably herp dessecorp .gnihtemos '\n",
      "         \"gniod m'I dneterp ot setyb 65 detacolla I .\n",
      "\n",
      "Feedback Function exception caught: Traceback (most recent call last):\n",
      "  File \"/Users/pmardziel/repos/truera/trulens/trulens_eval/trulens_eval/feedback/feedback.py\", line 899, in run\n",
      "    result_and_meta, part_cost = mod_base_endpoint.Endpoint.track_all_costs_tally(\n",
      "                                 ^^^^^^^^^^^^^^^^^^^^^^^^^^^^^^^^^^^^^^^^^^^^^^^^^\n",
      "  File \"/Users/pmardziel/repos/truera/trulens/trulens_eval/trulens_eval/feedback/provider/endpoint/base.py\", line 503, in track_all_costs_tally\n",
      "    result, cbs = Endpoint.track_all_costs(\n",
      "                  ^^^^^^^^^^^^^^^^^^^^^^^^^\n",
      "  File \"/Users/pmardziel/repos/truera/trulens/trulens_eval/trulens_eval/feedback/provider/endpoint/base.py\", line 483, in track_all_costs\n",
      "    return Endpoint._track_costs(\n",
      "           ^^^^^^^^^^^^^^^^^^^^^^\n",
      "  File \"/Users/pmardziel/repos/truera/trulens/trulens_eval/trulens_eval/feedback/provider/endpoint/base.py\", line 581, in _track_costs\n",
      "    result: T = __func(*args, **kwargs)\n",
      "                ^^^^^^^^^^^^^^^^^^^^^^^\n",
      "  File \"/Users/pmardziel/repos/truera/trulens/trulens_eval/trulens_eval/feedback/provider/hugs.py\", line 82, in wrapper\n",
      "    return func(*bindings.args, **bindings.kwargs)\n",
      "           ^^^^^^^^^^^^^^^^^^^^^^^^^^^^^^^^^^^^^^^\n",
      "  File \"/Users/pmardziel/repos/truera/trulens/trulens_eval/trulens_eval/feedback/provider/hugs.py\", line 175, in language_match\n",
      "    scores1: Dict = f_scores1.result()\n",
      "                    ^^^^^^^^^^^^^^^^^^\n",
      "  File \"/opt/miniconda3/envs/py312/lib/python3.12/concurrent/futures/_base.py\", line 449, in result\n",
      "    return self.__get_result()\n",
      "           ^^^^^^^^^^^^^^^^^^^\n",
      "  File \"/opt/miniconda3/envs/py312/lib/python3.12/concurrent/futures/_base.py\", line 401, in __get_result\n",
      "    raise self._exception\n",
      "  File \"/opt/miniconda3/envs/py312/lib/python3.12/concurrent/futures/thread.py\", line 58, in run\n",
      "    result = self.fn(*self.args, **self.kwargs)\n",
      "             ^^^^^^^^^^^^^^^^^^^^^^^^^^^^^^^^^^\n",
      "  File \"/Users/pmardziel/repos/truera/trulens/trulens_eval/trulens_eval/utils/python.py\", line 475, in _future_target_wrapper\n",
      "    return func(*args, **kwargs)\n",
      "           ^^^^^^^^^^^^^^^^^^^^^\n",
      "  File \"/Users/pmardziel/repos/truera/trulens/trulens_eval/trulens_eval/feedback/provider/hugs.py\", line 511, in _language_scores_endpoint\n",
      "    hf_response = self.endpoint.post(\n",
      "                  ^^^^^^^^^^^^^^^^^^^\n",
      "  File \"/Users/pmardziel/repos/truera/trulens/trulens_eval/trulens_eval/feedback/provider/endpoint/base.py\", line 853, in post\n",
      "    raise RuntimeError(\"Simulated error happened.\")\n",
      "RuntimeError: Simulated error happened.\n",
      "\n",
      "The above exception was the direct cause of the following exception:\n",
      "\n",
      "Traceback (most recent call last):\n",
      "  File \"/Users/pmardziel/repos/truera/trulens/trulens_eval/trulens_eval/feedback/feedback.py\", line 913, in run\n",
      "    raise RuntimeError(\n",
      "RuntimeError: Evaluation of language_match failed on inputs: \n",
      "{'text1': 'hello there',\n",
      " 'text2': 'The answer to hello there is probably herp dessecorp .gnihtemos '\n",
      "          \"gniod m'I dnete.\n",
      "\n"
     ]
    },
    {
     "name": "stderr",
     "output_type": "stream",
     "text": [
      "Timeout waiting for feedback result for language_match.\n"
     ]
    },
    {
     "data": {
      "text/plain": [
       "[Record(record_id='record_hash_7154900aaf3c9bcb000c04edca79df33', app_id='customapp', cost=Cost(n_requests=0, n_successful_requests=0, n_classes=0, n_tokens=0, n_stream_chunks=0, n_prompt_tokens=0, n_completion_tokens=0, cost=0.0), perf=Perf(start_time=datetime.datetime(2024, 6, 27, 17, 2, 0, 579412), end_time=datetime.datetime(2024, 6, 27, 17, 2, 0, 779123)), ts=datetime.datetime(2024, 6, 27, 17, 2, 0, 779200), tags='-', meta=None, main_input='hello there', main_output=\"The answer to hello there is probably herp dessecorp .gnihtemos gniod m'I dneterp ot setyb 65 detacolla I :knuhc tnaveleR,dessecorp hello there :knuhc tnaveleR,dessecorp EREHT OLLEH :knuhc tnaveleR derp and 56 bytes or something ...\", main_error=None, calls=[RecordAppCall(call_id='a7f3acaa-e590-44f3-a561-dd4c56216f3f', stack=[RecordAppCallMethod(path=Lens().app, method=Method(obj=Obj(cls=examples.expositional.end2end_apps.custom_app.custom_app.CustomApp, id=13520091424, init_bindings=None), name='respond_to_query')), RecordAppCallMethod(path=Lens().app, method=Method(obj=Obj(cls=examples.expositional.end2end_apps.custom_app.custom_app.CustomApp, id=13520091424, init_bindings=None), name='retrieve_chunks')), RecordAppCallMethod(path=Lens().app.retriever, method=Method(obj=Obj(cls=examples.expositional.end2end_apps.custom_app.custom_retriever.CustomRetriever, id=13520090272, init_bindings=None), name='retrieve_chunks'))], args={'data': 'hello there'}, rets=['Relevant chunk: HELLO THERE', 'Relevant chunk: ereht olleh', \"Relevant chunk: I allocated 56 bytes to pretend I'm doing something.\"], error=None, perf=Perf(start_time=datetime.datetime(2024, 6, 27, 17, 2, 0, 644995), end_time=datetime.datetime(2024, 6, 27, 17, 2, 0, 651674)), pid=56677, tid=5956724), RecordAppCall(call_id='ea74911c-47ad-402c-82e3-8d3da97e158b', stack=[RecordAppCallMethod(path=Lens().app, method=Method(obj=Obj(cls=examples.expositional.end2end_apps.custom_app.custom_app.CustomApp, id=13520091424, init_bindings=None), name='respond_to_query')), RecordAppCallMethod(path=Lens().app, method=Method(obj=Obj(cls=examples.expositional.end2end_apps.custom_app.custom_app.CustomApp, id=13520091424, init_bindings=None), name='retrieve_chunks'))], args={'data': 'hello there'}, rets=['Relevant chunk: HELLO THERE', 'Relevant chunk: ereht olleh', \"Relevant chunk: I allocated 56 bytes to pretend I'm doing something.\"], error=None, perf=Perf(start_time=datetime.datetime(2024, 6, 27, 17, 2, 0, 618582), end_time=datetime.datetime(2024, 6, 27, 17, 2, 0, 651720)), pid=56677, tid=5956724), RecordAppCall(call_id='9eea511b-1647-4d93-97dd-bd4d153f39cb', stack=[RecordAppCallMethod(path=Lens().app, method=Method(obj=Obj(cls=examples.expositional.end2end_apps.custom_app.custom_app.CustomApp, id=13520091424, init_bindings=None), name='respond_to_query')), RecordAppCallMethod(path=Lens().app.memory, method=Method(obj=Obj(cls=examples.expositional.end2end_apps.custom_app.custom_memory.CustomMemory, id=13520092336, init_bindings=None), name='remember'))], args={'data': 'hello there'}, rets=None, error=None, perf=Perf(start_time=datetime.datetime(2024, 6, 27, 17, 2, 0, 691218), end_time=datetime.datetime(2024, 6, 27, 17, 2, 0, 697436)), pid=56677, tid=5956724), RecordAppCall(call_id='14213ee1-b2d7-43ac-901e-ff862d1eb182', stack=[RecordAppCallMethod(path=Lens().app, method=Method(obj=Obj(cls=examples.expositional.end2end_apps.custom_app.custom_app.CustomApp, id=13520091424, init_bindings=None), name='respond_to_query')), RecordAppCallMethod(path=Lens().app.llm, method=Method(obj=Obj(cls=examples.expositional.end2end_apps.custom_app.custom_llm.CustomLLM, id=13520089936, init_bindings=None), name='generate'))], args={'prompt': \"Relevant chunk: HELLO THERE processed,Relevant chunk: ereht olleh processed,Relevant chunk: I allocated 56 bytes to pretend I'm doing something. processed\"}, rets=\"herp dessecorp .gnihtemos gniod m'I dneterp ot setyb 65 detacolla I :knuhc tnaveleR,dessecorp hello there :knuhc tnaveleR,dessecorp EREHT OLLEH :knuhc tnaveleR derp and 56 bytes\", error=None, perf=Perf(start_time=datetime.datetime(2024, 6, 27, 17, 2, 0, 718604), end_time=datetime.datetime(2024, 6, 27, 17, 2, 0, 725227)), pid=56677, tid=5956724), RecordAppCall(call_id='5500fd17-5fec-4cfc-9976-b7949349ae11', stack=[RecordAppCallMethod(path=Lens().app, method=Method(obj=Obj(cls=examples.expositional.end2end_apps.custom_app.custom_app.CustomApp, id=13520091424, init_bindings=None), name='respond_to_query')), RecordAppCallMethod(path=Lens().app.template, method=Method(obj=Obj(cls=examples.expositional.end2end_apps.custom_app.custom_app.CustomTemplate, id=13520092768, init_bindings=None), name='fill'))], args={'question': 'hello there', 'answer': \"herp dessecorp .gnihtemos gniod m'I dneterp ot setyb 65 detacolla I :knuhc tnaveleR,dessecorp hello there :knuhc tnaveleR,dessecorp EREHT OLLEH :knuhc tnaveleR derp and 56 bytes\"}, rets=\"The answer to hello there is probably herp dessecorp .gnihtemos gniod m'I dneterp ot setyb 65 detacolla I :knuhc tnaveleR,dessecorp hello there :knuhc tnaveleR,dessecorp EREHT OLLEH :knuhc tnaveleR derp and 56 bytes or something ...\", error=None, perf=Perf(start_time=datetime.datetime(2024, 6, 27, 17, 2, 0, 745224), end_time=datetime.datetime(2024, 6, 27, 17, 2, 0, 751950)), pid=56677, tid=5956724), RecordAppCall(call_id='c533e5bc-1821-4c20-96c9-aab704926156', stack=[RecordAppCallMethod(path=Lens().app, method=Method(obj=Obj(cls=examples.expositional.end2end_apps.custom_app.custom_app.CustomApp, id=13520091424, init_bindings=None), name='respond_to_query')), RecordAppCallMethod(path=Lens().app.memory, method=Method(obj=Obj(cls=examples.expositional.end2end_apps.custom_app.custom_memory.CustomMemory, id=13520092336, init_bindings=None), name='remember'))], args={'data': \"The answer to hello there is probably herp dessecorp .gnihtemos gniod m'I dneterp ot setyb 65 detacolla I :knuhc tnaveleR,dessecorp hello there :knuhc tnaveleR,dessecorp EREHT OLLEH :knuhc tnaveleR derp and 56 bytes or something ...\"}, rets=None, error=None, perf=Perf(start_time=datetime.datetime(2024, 6, 27, 17, 2, 0, 772799), end_time=datetime.datetime(2024, 6, 27, 17, 2, 0, 779098)), pid=56677, tid=5956724), RecordAppCall(call_id='2555fd1e-a7ed-4e95-92dd-54b46d5f6863', stack=[RecordAppCallMethod(path=Lens().app, method=Method(obj=Obj(cls=examples.expositional.end2end_apps.custom_app.custom_app.CustomApp, id=13520091424, init_bindings=None), name='respond_to_query'))], args={'input': 'hello there'}, rets=\"The answer to hello there is probably herp dessecorp .gnihtemos gniod m'I dneterp ot setyb 65 detacolla I :knuhc tnaveleR,dessecorp hello there :knuhc tnaveleR,dessecorp EREHT OLLEH :knuhc tnaveleR derp and 56 bytes or something ...\", error=None, perf=Perf(start_time=datetime.datetime(2024, 6, 27, 17, 2, 0, 579412), end_time=datetime.datetime(2024, 6, 27, 17, 2, 0, 779123)), pid=56677, tid=5956724)], feedback_and_future_results=[(FeedbackDefinition(language_match,\n",
       " \tselectors={'text1': Lens().__record__.main_input, 'text2': Lens().__record__.main_output},\n",
       " \tif_exists=None\n",
       " ), <Future at 0x16fafdbe0 state=running>), (FeedbackDefinition(output sentiment,\n",
       " \tselectors={'text': Lens().__record__.main_output},\n",
       " \tif_exists=None\n",
       " ), <Future at 0x16fafd820 state=finished returned FeedbackResult>)], feedback_results=[<Future at 0x16fafdbe0 state=running>, <Future at 0x16fafd820 state=finished returned FeedbackResult>])]"
      ]
     },
     "execution_count": 5,
     "metadata": {},
     "output_type": "execute_result"
    }
   ],
   "source": [
    "\n",
    "ta.wait_for_feedback_results(feedback_timeout=5)"
   ]
  },
  {
   "cell_type": "code",
   "execution_count": null,
   "metadata": {},
   "outputs": [],
   "source": [
    "# Sequential app invocation.\n",
    "\n",
    "if True:\n",
    "    for i in tqdm(range(2), desc=\"invoking app\"):\n",
    "        with ta as recorder:\n",
    "            res = ca.respond_to_query(f\"hello {i}\")\n",
    "\n",
    "        rec = recorder.get()\n",
    "        assert rec is not None"
   ]
  },
  {
   "cell_type": "code",
   "execution_count": null,
   "metadata": {},
   "outputs": [],
   "source": [
    "# ta.wait_for_feedback_results()"
   ]
  },
  {
   "cell_type": "code",
   "execution_count": null,
   "metadata": {},
   "outputs": [],
   "source": [
    "# Control retries in deferred evaluator.\n",
    "# tru.RETRY_FAILED_SECONDS = 60\n",
    "# tru.RETRY_RUNNING_SECONDS = 5\n",
    "tru.start_evaluator(restart=True)"
   ]
  },
  {
   "cell_type": "code",
   "execution_count": null,
   "metadata": {},
   "outputs": [],
   "source": [
    "# Parallel feedback evaluation.\n",
    "\n",
    "futures = []\n",
    "num_tests = 10000\n",
    "good = 0\n",
    "bad = 0\n",
    "\n",
    "def test_feedback(msg):\n",
    "    return msg, d.positive_sentiment(msg)\n",
    "\n",
    "for i in tqdm(range(num_tests), desc=\"starting feedback task\"):\n",
    "    futures.append(tp.submit(test_feedback, msg=f\"good\"))\n",
    "\n",
    "prog = tqdm(as_completed(futures), total=num_tests)\n",
    "\n",
    "for f in prog:\n",
    "    try:\n",
    "        res = f.result()\n",
    "        good += 1\n",
    "\n",
    "        assert res[0] == \"good\"\n",
    "\n",
    "        prog.set_description_str(f\"{good} / {bad}\")\n",
    "    except Exception as e:\n",
    "        bad += 1\n",
    "        prog.set_description_str(f\"{good} / {bad}\")"
   ]
  },
  {
   "cell_type": "code",
   "execution_count": null,
   "metadata": {},
   "outputs": [],
   "source": [
    "# Parallel app invocation.\n",
    "\n",
    "def run_query(q):\n",
    "\n",
    "    with ta as recorder:\n",
    "        res = ca.respond_to_query(q)\n",
    "\n",
    "    rec = recorder.get()\n",
    "    assert rec is not None\n",
    "\n",
    "    return f\"run_query {q} result\"\n",
    "\n",
    "for i in tqdm(range(100), desc=\"starting app task\"):\n",
    "    print(\n",
    "        tp.completed_tasks, \n",
    "        end=\"\\r\"\n",
    "    )\n",
    "    tp.submit(run_query, q=f\"hello {i}\")"
   ]
  },
  {
   "cell_type": "code",
   "execution_count": null,
   "metadata": {},
   "outputs": [],
   "source": []
  }
 ],
 "metadata": {
  "kernelspec": {
   "display_name": "py38_trulens",
   "language": "python",
   "name": "python3"
  },
  "language_info": {
   "codemirror_mode": {
    "name": "ipython",
    "version": 3
   },
   "file_extension": ".py",
   "mimetype": "text/x-python",
   "name": "python",
   "nbconvert_exporter": "python",
   "pygments_lexer": "ipython3",
   "version": "3.12.0"
  },
  "orig_nbformat": 4
 },
 "nbformat": 4,
 "nbformat_minor": 2
}
