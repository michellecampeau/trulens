{
 "cells": [
  {
   "cell_type": "markdown",
   "metadata": {},
   "source": [
    "# Notebook App UI Example\n",
    "\n",
    "This notebook demonstrates the in-notebook app interface letting you interact with a langchain app inside this notebook."
   ]
  },
  {
   "cell_type": "code",
   "execution_count": null,
   "metadata": {},
   "outputs": [],
   "source": [
    "%load_ext autoreload\n",
    "%autoreload 2\n",
    "from pathlib import Path\n",
    "import sys\n",
    "\n",
    "# If running from github repo, can use this:\n",
    "sys.path.append(str(Path().cwd().parent.parent.resolve()))\n",
    "\n",
    "from pprint import PrettyPrinter\n",
    "pp = PrettyPrinter()\n",
    "\n",
    "from trulens_eval.keys import check_keys\n",
    "\n",
    "check_keys(\n",
    "    \"OPENAI_API_KEY\"\n",
    ")\n",
    "\n",
    "from trulens_eval import Tru\n",
    "\n",
    "tru = Tru()\n",
    "# tru.reset_database() # if needed\n",
    "tru.start_dashboard(\n",
    "    force = True,\n",
    "    _dev=Path().cwd().parent.parent.resolve()\n",
    ")"
   ]
  },
  {
   "cell_type": "code",
   "execution_count": null,
   "metadata": {},
   "outputs": [],
   "source": [
    "from langchain.llms import OpenAI\n",
    "from langchain.chains import ConversationChain\n",
    "from langchain.memory import ConversationSummaryBufferMemory\n",
    "\n",
    "llm = OpenAI(temperature=0.9, max_tokens=128)\n",
    "\n",
    "# Conversation memory.\n",
    "memory = ConversationSummaryBufferMemory(\n",
    "    k=4,\n",
    "    max_token_limit=64,\n",
    "    llm=llm,\n",
    ")\n",
    "\n",
    "# Conversational app puts it all together.\n",
    "app = ConversationChain(\n",
    "    llm=llm,\n",
    "    memory=memory\n",
    ")\n",
    "\n",
    "from langchain.prompts import PromptTemplate\n",
    "from trulens_eval.instruments import instrument\n",
    "instrument.method(PromptTemplate, \"format\")\n",
    "\n",
    "truchain = tru.Chain(app)"
   ]
  },
  {
   "cell_type": "code",
   "execution_count": null,
   "metadata": {},
   "outputs": [],
   "source": [
    "# Manual usage without instrumentation:\n",
    "pp.pprint(app(\"Hello there\"))\n",
    "pp.pprint(app(\"What is your name?\"))"
   ]
  },
  {
   "cell_type": "code",
   "execution_count": null,
   "metadata": {},
   "outputs": [],
   "source": [
    "with truchain:\n",
    "    # Manual usage with instrumentation:\n",
    "    pp.pprint(app(\"Hello there\"))\n",
    "    pp.pprint(app(\"What is your name?\"))"
   ]
  },
  {
   "cell_type": "code",
   "execution_count": null,
   "metadata": {},
   "outputs": [],
   "source": [
    "from trulens_eval.appui import AppUI\n",
    "\n",
    "# Interesting Select.App queries to look at:\n",
    "# - app.memory.chat_memory.messages[:].content\n",
    "# - app.memory.moving_summary_buffer\n",
    "# - app.prompt.template\n",
    "\n",
    "# Interesting Select.Record queries to look at:\n",
    "# - app.memory.save_context[0].args\n",
    "# - app.prompt.format.args.kwargs\n",
    "# - app.prompt.format.rets\n",
    "# The last two need to instrument PromptTemplate as above.\n",
    "\n",
    "aui = AppUI(\n",
    "    app=truchain,\n",
    "    \n",
    "    app_selectors=[\n",
    "        # \"app.memory.chat_memory.messages[:].content\",\n",
    "        # \"app.memory.moving_summary_buffer\",\n",
    "\n",
    "        # \"app.prompt.template\"\n",
    "    ],\n",
    "    record_selectors=[\n",
    "        # \"app.memory.save_context[0].args\",\n",
    "\n",
    "        # \"app.prompt.format.args.kwargs\",\n",
    "        # \"app.prompt.format.rets\"\n",
    "    ]\n",
    ")\n",
    "aui.d"
   ]
  },
  {
   "cell_type": "code",
   "execution_count": null,
   "metadata": {},
   "outputs": [],
   "source": []
  }
 ],
 "metadata": {
  "kernelspec": {
   "display_name": "py38_trulens",
   "language": "python",
   "name": "python3"
  },
  "language_info": {
   "codemirror_mode": {
    "name": "ipython",
    "version": 3
   },
   "file_extension": ".py",
   "mimetype": "text/x-python",
   "name": "python",
   "nbconvert_exporter": "python",
   "pygments_lexer": "ipython3",
   "version": "3.8.16"
  },
  "orig_nbformat": 4
 },
 "nbformat": 4,
 "nbformat_minor": 2
}
