{
 "cells": [
  {
   "cell_type": "code",
   "execution_count": null,
   "id": "edb61ec8",
   "metadata": {},
   "outputs": [],
   "source": [
    "!pip install -U trulens-eval\n",
    "\n",
    "# Google Colab Dependencies\n",
    "!npm install localtunnel -q\n",
    "!pip install -q streamlit>=1.26.0"
   ]
  },
  {
   "attachments": {},
   "cell_type": "markdown",
   "id": "ffd77f07",
   "metadata": {},
   "source": [
    "# Text to Text Quickstart\n",
    "\n",
    "In this quickstart you will create a simple text to text application and learn how to log it and get feedback.\n",
    "\n",
    "[![Open In Colab](https://colab.research.google.com/assets/colab-badge.svg)](https://colab.research.google.com/github/truera/trulens/blob/main/trulens_eval/examples/quickstart/text2text_quickstart.ipynb)"
   ]
  },
  {
   "cell_type": "code",
   "execution_count": null,
   "id": "1ef2b195",
   "metadata": {},
   "outputs": [],
   "source": [
    "# ! pip install trulens_eval==0.17.0"
   ]
  },
  {
   "attachments": {},
   "cell_type": "markdown",
   "id": "f91bab5c",
   "metadata": {},
   "source": [
    "## Setup\n",
    "### Add API keys\n",
    "For this quickstart you will need Open AI and Huggingface keys"
   ]
  },
  {
   "cell_type": "code",
   "execution_count": null,
   "id": "0734513e",
   "metadata": {},
   "outputs": [],
   "source": [
    "import os\n",
    "os.environ[\"OPENAI_API_KEY\"] = \"...\"\n",
    "os.environ[\"HUGGINGFACE_API_KEY\"] = \"...\""
   ]
  },
  {
   "cell_type": "code",
   "execution_count": null,
   "id": "34c92825",
   "metadata": {},
   "outputs": [],
   "source": [
    "import openai\n",
    "openai.api_key = os.environ[\"OPENAI_API_KEY\"]"
   ]
  },
  {
   "attachments": {},
   "cell_type": "markdown",
   "id": "d90a8a64",
   "metadata": {},
   "source": [
    "### Import from TruLens"
   ]
  },
  {
   "cell_type": "code",
   "execution_count": null,
   "id": "2198fa20",
   "metadata": {},
   "outputs": [],
   "source": [
    "from IPython.display import JSON\n",
    "\n",
    "# Imports main tools:\n",
    "from trulens_eval import Feedback, Huggingface, Tru\n",
    "tru = Tru()"
   ]
  },
  {
   "attachments": {},
   "cell_type": "markdown",
   "id": "563e110d",
   "metadata": {},
   "source": [
    "### Create Simple Text to Text Application\n",
    "\n",
    "This example uses a bare bones OpenAI LLM, and a non-LLM just for demonstration purposes."
   ]
  },
  {
   "cell_type": "code",
   "execution_count": null,
   "id": "8597b7f2",
   "metadata": {},
   "outputs": [],
   "source": [
    "def llm_standalone(prompt):\n",
    "    return openai.ChatCompletion.create(\n",
    "    model=\"gpt-3.5-turbo\",\n",
    "    messages=[\n",
    "            {\"role\": \"system\", \"content\": \"You are a question and answer bot, and you answer super upbeat.\"},\n",
    "            {\"role\": \"user\", \"content\": prompt}\n",
    "        ]\n",
    "    )[\"choices\"][0][\"message\"][\"content\"]"
   ]
  },
  {
   "cell_type": "code",
   "execution_count": null,
   "id": "b5c51d64",
   "metadata": {},
   "outputs": [],
   "source": [
    "import hashlib\n",
    "def simple_hash_callable(prompt):\n",
    "    h = hashlib.shake_256(prompt.encode('utf-8'))\n",
    "    return str(h.hexdigest(20))"
   ]
  },
  {
   "attachments": {},
   "cell_type": "markdown",
   "id": "9d065274",
   "metadata": {},
   "source": [
    "### Send your first request"
   ]
  },
  {
   "cell_type": "code",
   "execution_count": null,
   "id": "d151e942",
   "metadata": {},
   "outputs": [],
   "source": [
    "prompt_input=\"How good is language AI?\"\n",
    "prompt_output = llm_standalone(prompt_input)\n",
    "prompt_output"
   ]
  },
  {
   "cell_type": "code",
   "execution_count": null,
   "id": "63ddcf86",
   "metadata": {},
   "outputs": [],
   "source": [
    "simple_hash_callable(prompt_input)"
   ]
  },
  {
   "attachments": {},
   "cell_type": "markdown",
   "id": "84989150",
   "metadata": {},
   "source": [
    "## Initialize Feedback Function(s)"
   ]
  },
  {
   "cell_type": "code",
   "execution_count": null,
   "id": "bf8f1891",
   "metadata": {},
   "outputs": [],
   "source": [
    "# Initialize Huggingface-based feedback function collection class:\n",
    "hugs = Huggingface()\n",
    "\n",
    "# Define a sentiment feedback function using HuggingFace.\n",
    "f_sentiment = Feedback(hugs.positive_sentiment).on_output()"
   ]
  },
  {
   "attachments": {},
   "cell_type": "markdown",
   "id": "ee713434",
   "metadata": {},
   "source": [
    "## Instrument the callable for logging with TruLens"
   ]
  },
  {
   "cell_type": "code",
   "execution_count": null,
   "id": "93391cdd",
   "metadata": {},
   "outputs": [],
   "source": [
    "from trulens_eval import TruBasicApp\n",
    "tru_llm_standalone_recorder = TruBasicApp(llm_standalone, app_id=\"Happy Bot\", feedbacks=[f_sentiment])\n",
    "tru_simple_hash_callable_recorder = TruBasicApp(simple_hash_callable, app_id=\"Hasher\", feedbacks=[f_sentiment])"
   ]
  },
  {
   "cell_type": "code",
   "execution_count": null,
   "id": "3edaae03",
   "metadata": {},
   "outputs": [],
   "source": [
    "with tru_llm_standalone_recorder as recording:\n",
    "    tru_llm_standalone_recorder.app(prompt_input)"
   ]
  },
  {
   "cell_type": "code",
   "execution_count": null,
   "id": "083d7fd3",
   "metadata": {},
   "outputs": [],
   "source": [
    "with tru_simple_hash_callable_recorder as recording:\n",
    "    tru_simple_hash_callable_recorder.app(prompt_input)"
   ]
  },
  {
   "attachments": {},
   "cell_type": "markdown",
   "id": "e801c16d",
   "metadata": {},
   "source": [
    "## Explore in a Dashboard"
   ]
  },
  {
   "cell_type": "code",
   "execution_count": null,
   "id": "12a2eb52",
   "metadata": {},
   "outputs": [],
   "source": [
    "tru.run_dashboard() # open a local streamlit app to explore\n",
    "\n",
    "# tru.stop_dashboard() # stop if needed"
   ]
  },
  {
   "attachments": {},
   "cell_type": "markdown",
   "id": "44618568",
   "metadata": {},
   "source": [
    "Alternatively, you can run `trulens-eval` from a command line in the same folder to start the dashboard."
   ]
  },
  {
   "attachments": {},
   "cell_type": "markdown",
   "id": "53e47dc6",
   "metadata": {},
   "source": [
    "## Or view results directly in your notebook"
   ]
  },
  {
   "cell_type": "code",
   "execution_count": null,
   "id": "3a4983f9",
   "metadata": {},
   "outputs": [],
   "source": [
    "tru.get_records_and_feedback(app_ids=[])[0] # pass an empty list of app_ids to get all"
   ]
  }
 ],
 "metadata": {
  "kernelspec": {
   "display_name": "Python 3 (ipykernel)",
   "language": "python",
   "name": "python3"
  },
  "language_info": {
   "codemirror_mode": {
    "name": "ipython",
    "version": 3
   },
   "file_extension": ".py",
   "mimetype": "text/x-python",
   "name": "python",
   "nbconvert_exporter": "python",
   "pygments_lexer": "ipython3",
   "version": "3.11.3"
  }
 },
 "nbformat": 4,
 "nbformat_minor": 5
}
